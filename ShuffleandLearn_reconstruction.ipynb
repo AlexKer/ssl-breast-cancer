{
  "nbformat": 4,
  "nbformat_minor": 0,
  "metadata": {
    "colab": {
      "provenance": [],
      "machine_shape": "hm",
      "gpuType": "A100"
    },
    "kernelspec": {
      "name": "python3",
      "display_name": "Python 3"
    },
    "language_info": {
      "name": "python"
    },
    "accelerator": "GPU"
  },
  "cells": [
    {
      "cell_type": "code",
      "execution_count": 1,
      "metadata": {
        "colab": {
          "base_uri": "https://localhost:8080/"
        },
        "id": "ISuf1QeM_fhg",
        "outputId": "273070b0-a3fa-4c06-9ccf-03d21ad65e95"
      },
      "outputs": [
        {
          "output_type": "stream",
          "name": "stdout",
          "text": [
            "Requirement already satisfied: pydicom in /usr/local/lib/python3.10/dist-packages (3.0.1)\n",
            "Collecting git+https://github.com/facebookresearch/fvcore.git\n",
            "  Cloning https://github.com/facebookresearch/fvcore.git to /tmp/pip-req-build-01zym1b5\n",
            "  Running command git clone --filter=blob:none --quiet https://github.com/facebookresearch/fvcore.git /tmp/pip-req-build-01zym1b5\n",
            "  Resolved https://github.com/facebookresearch/fvcore.git to commit d051804c97dfd7c8f349996fefd8644fe2955bc2\n",
            "  Preparing metadata (setup.py) ... \u001b[?25l\u001b[?25hdone\n",
            "Requirement already satisfied: numpy in /usr/local/lib/python3.10/dist-packages (from fvcore==0.1.6) (1.26.4)\n",
            "Requirement already satisfied: yacs>=0.1.6 in /usr/local/lib/python3.10/dist-packages (from fvcore==0.1.6) (0.1.8)\n",
            "Requirement already satisfied: pyyaml>=5.1 in /usr/local/lib/python3.10/dist-packages (from fvcore==0.1.6) (6.0.2)\n",
            "Requirement already satisfied: tqdm in /usr/local/lib/python3.10/dist-packages (from fvcore==0.1.6) (4.66.5)\n",
            "Requirement already satisfied: termcolor>=1.1 in /usr/local/lib/python3.10/dist-packages (from fvcore==0.1.6) (2.5.0)\n",
            "Requirement already satisfied: Pillow in /usr/local/lib/python3.10/dist-packages (from fvcore==0.1.6) (10.4.0)\n",
            "Requirement already satisfied: tabulate in /usr/local/lib/python3.10/dist-packages (from fvcore==0.1.6) (0.9.0)\n",
            "Requirement already satisfied: iopath>=0.1.7 in /usr/local/lib/python3.10/dist-packages (from fvcore==0.1.6) (0.1.10)\n",
            "Requirement already satisfied: typing-extensions in /usr/local/lib/python3.10/dist-packages (from iopath>=0.1.7->fvcore==0.1.6) (4.12.2)\n",
            "Requirement already satisfied: portalocker in /usr/local/lib/python3.10/dist-packages (from iopath>=0.1.7->fvcore==0.1.6) (2.10.1)\n",
            "Requirement already satisfied: torchsummary in /usr/local/lib/python3.10/dist-packages (1.5.1)\n"
          ]
        }
      ],
      "source": [
        "!pip install pydicom\n",
        "!pip install git+https://github.com/facebookresearch/fvcore.git\n",
        "!pip install torchsummary"
      ]
    },
    {
      "cell_type": "code",
      "source": [
        "import os\n",
        "import torch\n",
        "import torch.nn as nn\n",
        "import torchvision.transforms.functional as F\n",
        "import logging\n",
        "import warnings\n",
        "import random\n",
        "import pydicom\n",
        "import numpy as np\n",
        "import matplotlib.pyplot as plt\n",
        "import torch.optim as optim\n",
        "from torch.utils.data import DataLoader\n",
        "from torch.utils.data import Dataset\n",
        "from torchsummary import summary\n",
        "from tqdm import tqdm"
      ],
      "metadata": {
        "id": "TzWsxPtq_o9v"
      },
      "execution_count": 2,
      "outputs": []
    },
    {
      "cell_type": "code",
      "source": [
        "pydicom_logger = logging.getLogger(\"pydicom\")\n",
        "pydicom_logger.setLevel(logging.ERROR)\n",
        "warnings.filterwarnings(\"ignore\", category=UserWarning, module=\"pydicom\")"
      ],
      "metadata": {
        "id": "idb68Kan_rId"
      },
      "execution_count": 3,
      "outputs": []
    },
    {
      "cell_type": "code",
      "source": [
        "device = torch.device(\"cuda\" if torch.cuda.is_available() else \"cpu\")"
      ],
      "metadata": {
        "id": "MNKBC7Rw_u83"
      },
      "execution_count": 4,
      "outputs": []
    },
    {
      "cell_type": "code",
      "source": [
        "class ISPY1Dataset(Dataset):\n",
        "    def __init__(self, root_dir, transform=None):\n",
        "        self.root_dir = root_dir\n",
        "        self.subjects = sorted(os.listdir(root_dir))\n",
        "        self.transform = transform\n",
        "\n",
        "    def __len__(self):\n",
        "        return len(self.subjects) * 4\n",
        "\n",
        "    def load_dicom_images(self, dicom_dir):\n",
        "        slices = [pydicom.dcmread(os.path.join(dicom_dir, f)) for f in os.listdir(dicom_dir)]\n",
        "        slices_array = np.stack([s.pixel_array for s in slices], axis=0)\n",
        "        return slices_array.astype(np.float32) / np.max(slices_array)\n",
        "\n",
        "    def __getitem__(self, idx):\n",
        "        subject_idx = idx // 4\n",
        "        sample_type = idx % 4\n",
        "\n",
        "        subject_path = os.path.join(self.root_dir, self.subjects[subject_idx])\n",
        "        time_stages = ['T1', 'T2', 'T3', 'T4']\n",
        "        correct_order = []\n",
        "\n",
        "        for stage in time_stages:\n",
        "            dicom_dir = os.path.join(subject_path, stage)\n",
        "            image_stack = self.load_dicom_images(dicom_dir)\n",
        "            resized_stack = np.stack([\n",
        "                F.resize(torch.tensor(slice)[None, ...], (256, 256)).squeeze(0)\n",
        "                for slice in image_stack\n",
        "            ], axis=0)\n",
        "            correct_order.append(resized_stack)\n",
        "\n",
        "        if sample_type == 0:\n",
        "            shuffled_order = correct_order\n",
        "        else:\n",
        "            shuffled_order = correct_order.copy()\n",
        "            random.shuffle(shuffled_order)\n",
        "\n",
        "        label = np.stack(correct_order, axis=0)\n",
        "        if self.transform:\n",
        "            label = self.transform(label)\n",
        "\n",
        "        sample = np.stack(shuffled_order, axis=0)\n",
        "        if self.transform:\n",
        "            sample = self.transform(sample)\n",
        "\n",
        "        return torch.tensor(sample, dtype=torch.float32), torch.tensor(label, dtype=torch.float)"
      ],
      "metadata": {
        "id": "YQ249Uq5_yXD"
      },
      "execution_count": 5,
      "outputs": []
    },
    {
      "cell_type": "code",
      "source": [
        "dataset = ISPY1Dataset(root_dir='/content/drive/MyDrive/ISPY1_sub')\n",
        "dataloader = DataLoader(dataset, batch_size=4, shuffle=True, num_workers=0)"
      ],
      "metadata": {
        "id": "nC6HXDmnATmZ"
      },
      "execution_count": 6,
      "outputs": []
    },
    {
      "cell_type": "code",
      "source": [
        "for i in range(len(dataset)):\n",
        "    sample, label = dataset[i]\n",
        "    print(f'Sample {i} shape: {sample.shape}, label shape: {label.shape}')"
      ],
      "metadata": {
        "colab": {
          "base_uri": "https://localhost:8080/"
        },
        "id": "-FJLOpmATR3I",
        "outputId": "3ebcc62f-e77a-4782-ccbe-267fc2d8f21d"
      },
      "execution_count": 7,
      "outputs": [
        {
          "output_type": "stream",
          "name": "stdout",
          "text": [
            "Sample 0 shape: torch.Size([4, 60, 256, 256]), label shape: torch.Size([4, 60, 256, 256])\n",
            "Sample 1 shape: torch.Size([4, 60, 256, 256]), label shape: torch.Size([4, 60, 256, 256])\n",
            "Sample 2 shape: torch.Size([4, 60, 256, 256]), label shape: torch.Size([4, 60, 256, 256])\n",
            "Sample 3 shape: torch.Size([4, 60, 256, 256]), label shape: torch.Size([4, 60, 256, 256])\n",
            "Sample 4 shape: torch.Size([4, 60, 256, 256]), label shape: torch.Size([4, 60, 256, 256])\n",
            "Sample 5 shape: torch.Size([4, 60, 256, 256]), label shape: torch.Size([4, 60, 256, 256])\n",
            "Sample 6 shape: torch.Size([4, 60, 256, 256]), label shape: torch.Size([4, 60, 256, 256])\n",
            "Sample 7 shape: torch.Size([4, 60, 256, 256]), label shape: torch.Size([4, 60, 256, 256])\n",
            "Sample 8 shape: torch.Size([4, 60, 256, 256]), label shape: torch.Size([4, 60, 256, 256])\n",
            "Sample 9 shape: torch.Size([4, 60, 256, 256]), label shape: torch.Size([4, 60, 256, 256])\n",
            "Sample 10 shape: torch.Size([4, 60, 256, 256]), label shape: torch.Size([4, 60, 256, 256])\n",
            "Sample 11 shape: torch.Size([4, 60, 256, 256]), label shape: torch.Size([4, 60, 256, 256])\n",
            "Sample 12 shape: torch.Size([4, 60, 256, 256]), label shape: torch.Size([4, 60, 256, 256])\n",
            "Sample 13 shape: torch.Size([4, 60, 256, 256]), label shape: torch.Size([4, 60, 256, 256])\n",
            "Sample 14 shape: torch.Size([4, 60, 256, 256]), label shape: torch.Size([4, 60, 256, 256])\n",
            "Sample 15 shape: torch.Size([4, 60, 256, 256]), label shape: torch.Size([4, 60, 256, 256])\n",
            "Sample 16 shape: torch.Size([4, 60, 256, 256]), label shape: torch.Size([4, 60, 256, 256])\n",
            "Sample 17 shape: torch.Size([4, 60, 256, 256]), label shape: torch.Size([4, 60, 256, 256])\n",
            "Sample 18 shape: torch.Size([4, 60, 256, 256]), label shape: torch.Size([4, 60, 256, 256])\n",
            "Sample 19 shape: torch.Size([4, 60, 256, 256]), label shape: torch.Size([4, 60, 256, 256])\n",
            "Sample 20 shape: torch.Size([4, 60, 256, 256]), label shape: torch.Size([4, 60, 256, 256])\n",
            "Sample 21 shape: torch.Size([4, 60, 256, 256]), label shape: torch.Size([4, 60, 256, 256])\n",
            "Sample 22 shape: torch.Size([4, 60, 256, 256]), label shape: torch.Size([4, 60, 256, 256])\n",
            "Sample 23 shape: torch.Size([4, 60, 256, 256]), label shape: torch.Size([4, 60, 256, 256])\n",
            "Sample 24 shape: torch.Size([4, 60, 256, 256]), label shape: torch.Size([4, 60, 256, 256])\n",
            "Sample 25 shape: torch.Size([4, 60, 256, 256]), label shape: torch.Size([4, 60, 256, 256])\n",
            "Sample 26 shape: torch.Size([4, 60, 256, 256]), label shape: torch.Size([4, 60, 256, 256])\n",
            "Sample 27 shape: torch.Size([4, 60, 256, 256]), label shape: torch.Size([4, 60, 256, 256])\n",
            "Sample 28 shape: torch.Size([4, 60, 256, 256]), label shape: torch.Size([4, 60, 256, 256])\n",
            "Sample 29 shape: torch.Size([4, 60, 256, 256]), label shape: torch.Size([4, 60, 256, 256])\n",
            "Sample 30 shape: torch.Size([4, 60, 256, 256]), label shape: torch.Size([4, 60, 256, 256])\n",
            "Sample 31 shape: torch.Size([4, 60, 256, 256]), label shape: torch.Size([4, 60, 256, 256])\n",
            "Sample 32 shape: torch.Size([4, 60, 256, 256]), label shape: torch.Size([4, 60, 256, 256])\n",
            "Sample 33 shape: torch.Size([4, 60, 256, 256]), label shape: torch.Size([4, 60, 256, 256])\n",
            "Sample 34 shape: torch.Size([4, 60, 256, 256]), label shape: torch.Size([4, 60, 256, 256])\n",
            "Sample 35 shape: torch.Size([4, 60, 256, 256]), label shape: torch.Size([4, 60, 256, 256])\n",
            "Sample 36 shape: torch.Size([4, 60, 256, 256]), label shape: torch.Size([4, 60, 256, 256])\n",
            "Sample 37 shape: torch.Size([4, 60, 256, 256]), label shape: torch.Size([4, 60, 256, 256])\n",
            "Sample 38 shape: torch.Size([4, 60, 256, 256]), label shape: torch.Size([4, 60, 256, 256])\n",
            "Sample 39 shape: torch.Size([4, 60, 256, 256]), label shape: torch.Size([4, 60, 256, 256])\n",
            "Sample 40 shape: torch.Size([4, 60, 256, 256]), label shape: torch.Size([4, 60, 256, 256])\n",
            "Sample 41 shape: torch.Size([4, 60, 256, 256]), label shape: torch.Size([4, 60, 256, 256])\n",
            "Sample 42 shape: torch.Size([4, 60, 256, 256]), label shape: torch.Size([4, 60, 256, 256])\n",
            "Sample 43 shape: torch.Size([4, 60, 256, 256]), label shape: torch.Size([4, 60, 256, 256])\n",
            "Sample 44 shape: torch.Size([4, 60, 256, 256]), label shape: torch.Size([4, 60, 256, 256])\n",
            "Sample 45 shape: torch.Size([4, 60, 256, 256]), label shape: torch.Size([4, 60, 256, 256])\n",
            "Sample 46 shape: torch.Size([4, 60, 256, 256]), label shape: torch.Size([4, 60, 256, 256])\n",
            "Sample 47 shape: torch.Size([4, 60, 256, 256]), label shape: torch.Size([4, 60, 256, 256])\n",
            "Sample 48 shape: torch.Size([4, 60, 256, 256]), label shape: torch.Size([4, 60, 256, 256])\n",
            "Sample 49 shape: torch.Size([4, 60, 256, 256]), label shape: torch.Size([4, 60, 256, 256])\n",
            "Sample 50 shape: torch.Size([4, 60, 256, 256]), label shape: torch.Size([4, 60, 256, 256])\n",
            "Sample 51 shape: torch.Size([4, 60, 256, 256]), label shape: torch.Size([4, 60, 256, 256])\n",
            "Sample 52 shape: torch.Size([4, 60, 256, 256]), label shape: torch.Size([4, 60, 256, 256])\n",
            "Sample 53 shape: torch.Size([4, 60, 256, 256]), label shape: torch.Size([4, 60, 256, 256])\n",
            "Sample 54 shape: torch.Size([4, 60, 256, 256]), label shape: torch.Size([4, 60, 256, 256])\n",
            "Sample 55 shape: torch.Size([4, 60, 256, 256]), label shape: torch.Size([4, 60, 256, 256])\n",
            "Sample 56 shape: torch.Size([4, 60, 256, 256]), label shape: torch.Size([4, 60, 256, 256])\n",
            "Sample 57 shape: torch.Size([4, 60, 256, 256]), label shape: torch.Size([4, 60, 256, 256])\n",
            "Sample 58 shape: torch.Size([4, 60, 256, 256]), label shape: torch.Size([4, 60, 256, 256])\n",
            "Sample 59 shape: torch.Size([4, 60, 256, 256]), label shape: torch.Size([4, 60, 256, 256])\n",
            "Sample 60 shape: torch.Size([4, 60, 256, 256]), label shape: torch.Size([4, 60, 256, 256])\n",
            "Sample 61 shape: torch.Size([4, 60, 256, 256]), label shape: torch.Size([4, 60, 256, 256])\n",
            "Sample 62 shape: torch.Size([4, 60, 256, 256]), label shape: torch.Size([4, 60, 256, 256])\n",
            "Sample 63 shape: torch.Size([4, 60, 256, 256]), label shape: torch.Size([4, 60, 256, 256])\n",
            "Sample 64 shape: torch.Size([4, 60, 256, 256]), label shape: torch.Size([4, 60, 256, 256])\n",
            "Sample 65 shape: torch.Size([4, 60, 256, 256]), label shape: torch.Size([4, 60, 256, 256])\n",
            "Sample 66 shape: torch.Size([4, 60, 256, 256]), label shape: torch.Size([4, 60, 256, 256])\n",
            "Sample 67 shape: torch.Size([4, 60, 256, 256]), label shape: torch.Size([4, 60, 256, 256])\n",
            "Sample 68 shape: torch.Size([4, 60, 256, 256]), label shape: torch.Size([4, 60, 256, 256])\n",
            "Sample 69 shape: torch.Size([4, 60, 256, 256]), label shape: torch.Size([4, 60, 256, 256])\n",
            "Sample 70 shape: torch.Size([4, 60, 256, 256]), label shape: torch.Size([4, 60, 256, 256])\n",
            "Sample 71 shape: torch.Size([4, 60, 256, 256]), label shape: torch.Size([4, 60, 256, 256])\n",
            "Sample 72 shape: torch.Size([4, 60, 256, 256]), label shape: torch.Size([4, 60, 256, 256])\n",
            "Sample 73 shape: torch.Size([4, 60, 256, 256]), label shape: torch.Size([4, 60, 256, 256])\n",
            "Sample 74 shape: torch.Size([4, 60, 256, 256]), label shape: torch.Size([4, 60, 256, 256])\n",
            "Sample 75 shape: torch.Size([4, 60, 256, 256]), label shape: torch.Size([4, 60, 256, 256])\n",
            "Sample 76 shape: torch.Size([4, 60, 256, 256]), label shape: torch.Size([4, 60, 256, 256])\n",
            "Sample 77 shape: torch.Size([4, 60, 256, 256]), label shape: torch.Size([4, 60, 256, 256])\n",
            "Sample 78 shape: torch.Size([4, 60, 256, 256]), label shape: torch.Size([4, 60, 256, 256])\n",
            "Sample 79 shape: torch.Size([4, 60, 256, 256]), label shape: torch.Size([4, 60, 256, 256])\n",
            "Sample 80 shape: torch.Size([4, 60, 256, 256]), label shape: torch.Size([4, 60, 256, 256])\n",
            "Sample 81 shape: torch.Size([4, 60, 256, 256]), label shape: torch.Size([4, 60, 256, 256])\n",
            "Sample 82 shape: torch.Size([4, 60, 256, 256]), label shape: torch.Size([4, 60, 256, 256])\n",
            "Sample 83 shape: torch.Size([4, 60, 256, 256]), label shape: torch.Size([4, 60, 256, 256])\n",
            "Sample 84 shape: torch.Size([4, 60, 256, 256]), label shape: torch.Size([4, 60, 256, 256])\n",
            "Sample 85 shape: torch.Size([4, 60, 256, 256]), label shape: torch.Size([4, 60, 256, 256])\n",
            "Sample 86 shape: torch.Size([4, 60, 256, 256]), label shape: torch.Size([4, 60, 256, 256])\n",
            "Sample 87 shape: torch.Size([4, 60, 256, 256]), label shape: torch.Size([4, 60, 256, 256])\n",
            "Sample 88 shape: torch.Size([4, 60, 256, 256]), label shape: torch.Size([4, 60, 256, 256])\n",
            "Sample 89 shape: torch.Size([4, 60, 256, 256]), label shape: torch.Size([4, 60, 256, 256])\n",
            "Sample 90 shape: torch.Size([4, 60, 256, 256]), label shape: torch.Size([4, 60, 256, 256])\n",
            "Sample 91 shape: torch.Size([4, 60, 256, 256]), label shape: torch.Size([4, 60, 256, 256])\n",
            "Sample 92 shape: torch.Size([4, 60, 256, 256]), label shape: torch.Size([4, 60, 256, 256])\n",
            "Sample 93 shape: torch.Size([4, 60, 256, 256]), label shape: torch.Size([4, 60, 256, 256])\n",
            "Sample 94 shape: torch.Size([4, 60, 256, 256]), label shape: torch.Size([4, 60, 256, 256])\n",
            "Sample 95 shape: torch.Size([4, 60, 256, 256]), label shape: torch.Size([4, 60, 256, 256])\n",
            "Sample 96 shape: torch.Size([4, 60, 256, 256]), label shape: torch.Size([4, 60, 256, 256])\n",
            "Sample 97 shape: torch.Size([4, 60, 256, 256]), label shape: torch.Size([4, 60, 256, 256])\n",
            "Sample 98 shape: torch.Size([4, 60, 256, 256]), label shape: torch.Size([4, 60, 256, 256])\n",
            "Sample 99 shape: torch.Size([4, 60, 256, 256]), label shape: torch.Size([4, 60, 256, 256])\n",
            "Sample 100 shape: torch.Size([4, 60, 256, 256]), label shape: torch.Size([4, 60, 256, 256])\n",
            "Sample 101 shape: torch.Size([4, 60, 256, 256]), label shape: torch.Size([4, 60, 256, 256])\n",
            "Sample 102 shape: torch.Size([4, 60, 256, 256]), label shape: torch.Size([4, 60, 256, 256])\n",
            "Sample 103 shape: torch.Size([4, 60, 256, 256]), label shape: torch.Size([4, 60, 256, 256])\n",
            "Sample 104 shape: torch.Size([4, 60, 256, 256]), label shape: torch.Size([4, 60, 256, 256])\n",
            "Sample 105 shape: torch.Size([4, 60, 256, 256]), label shape: torch.Size([4, 60, 256, 256])\n",
            "Sample 106 shape: torch.Size([4, 60, 256, 256]), label shape: torch.Size([4, 60, 256, 256])\n",
            "Sample 107 shape: torch.Size([4, 60, 256, 256]), label shape: torch.Size([4, 60, 256, 256])\n",
            "Sample 108 shape: torch.Size([4, 60, 256, 256]), label shape: torch.Size([4, 60, 256, 256])\n",
            "Sample 109 shape: torch.Size([4, 60, 256, 256]), label shape: torch.Size([4, 60, 256, 256])\n",
            "Sample 110 shape: torch.Size([4, 60, 256, 256]), label shape: torch.Size([4, 60, 256, 256])\n",
            "Sample 111 shape: torch.Size([4, 60, 256, 256]), label shape: torch.Size([4, 60, 256, 256])\n",
            "Sample 112 shape: torch.Size([4, 60, 256, 256]), label shape: torch.Size([4, 60, 256, 256])\n",
            "Sample 113 shape: torch.Size([4, 60, 256, 256]), label shape: torch.Size([4, 60, 256, 256])\n",
            "Sample 114 shape: torch.Size([4, 60, 256, 256]), label shape: torch.Size([4, 60, 256, 256])\n",
            "Sample 115 shape: torch.Size([4, 60, 256, 256]), label shape: torch.Size([4, 60, 256, 256])\n",
            "Sample 116 shape: torch.Size([4, 60, 256, 256]), label shape: torch.Size([4, 60, 256, 256])\n",
            "Sample 117 shape: torch.Size([4, 60, 256, 256]), label shape: torch.Size([4, 60, 256, 256])\n",
            "Sample 118 shape: torch.Size([4, 60, 256, 256]), label shape: torch.Size([4, 60, 256, 256])\n",
            "Sample 119 shape: torch.Size([4, 60, 256, 256]), label shape: torch.Size([4, 60, 256, 256])\n",
            "Sample 120 shape: torch.Size([4, 60, 256, 256]), label shape: torch.Size([4, 60, 256, 256])\n",
            "Sample 121 shape: torch.Size([4, 60, 256, 256]), label shape: torch.Size([4, 60, 256, 256])\n",
            "Sample 122 shape: torch.Size([4, 60, 256, 256]), label shape: torch.Size([4, 60, 256, 256])\n",
            "Sample 123 shape: torch.Size([4, 60, 256, 256]), label shape: torch.Size([4, 60, 256, 256])\n",
            "Sample 124 shape: torch.Size([4, 60, 256, 256]), label shape: torch.Size([4, 60, 256, 256])\n",
            "Sample 125 shape: torch.Size([4, 60, 256, 256]), label shape: torch.Size([4, 60, 256, 256])\n",
            "Sample 126 shape: torch.Size([4, 60, 256, 256]), label shape: torch.Size([4, 60, 256, 256])\n",
            "Sample 127 shape: torch.Size([4, 60, 256, 256]), label shape: torch.Size([4, 60, 256, 256])\n",
            "Sample 128 shape: torch.Size([4, 60, 256, 256]), label shape: torch.Size([4, 60, 256, 256])\n",
            "Sample 129 shape: torch.Size([4, 60, 256, 256]), label shape: torch.Size([4, 60, 256, 256])\n",
            "Sample 130 shape: torch.Size([4, 60, 256, 256]), label shape: torch.Size([4, 60, 256, 256])\n",
            "Sample 131 shape: torch.Size([4, 60, 256, 256]), label shape: torch.Size([4, 60, 256, 256])\n",
            "Sample 132 shape: torch.Size([4, 60, 256, 256]), label shape: torch.Size([4, 60, 256, 256])\n",
            "Sample 133 shape: torch.Size([4, 60, 256, 256]), label shape: torch.Size([4, 60, 256, 256])\n",
            "Sample 134 shape: torch.Size([4, 60, 256, 256]), label shape: torch.Size([4, 60, 256, 256])\n",
            "Sample 135 shape: torch.Size([4, 60, 256, 256]), label shape: torch.Size([4, 60, 256, 256])\n",
            "Sample 136 shape: torch.Size([4, 60, 256, 256]), label shape: torch.Size([4, 60, 256, 256])\n",
            "Sample 137 shape: torch.Size([4, 60, 256, 256]), label shape: torch.Size([4, 60, 256, 256])\n",
            "Sample 138 shape: torch.Size([4, 60, 256, 256]), label shape: torch.Size([4, 60, 256, 256])\n",
            "Sample 139 shape: torch.Size([4, 60, 256, 256]), label shape: torch.Size([4, 60, 256, 256])\n",
            "Sample 140 shape: torch.Size([4, 60, 256, 256]), label shape: torch.Size([4, 60, 256, 256])\n",
            "Sample 141 shape: torch.Size([4, 60, 256, 256]), label shape: torch.Size([4, 60, 256, 256])\n",
            "Sample 142 shape: torch.Size([4, 60, 256, 256]), label shape: torch.Size([4, 60, 256, 256])\n",
            "Sample 143 shape: torch.Size([4, 60, 256, 256]), label shape: torch.Size([4, 60, 256, 256])\n",
            "Sample 144 shape: torch.Size([4, 60, 256, 256]), label shape: torch.Size([4, 60, 256, 256])\n",
            "Sample 145 shape: torch.Size([4, 60, 256, 256]), label shape: torch.Size([4, 60, 256, 256])\n",
            "Sample 146 shape: torch.Size([4, 60, 256, 256]), label shape: torch.Size([4, 60, 256, 256])\n",
            "Sample 147 shape: torch.Size([4, 60, 256, 256]), label shape: torch.Size([4, 60, 256, 256])\n",
            "Sample 148 shape: torch.Size([4, 60, 256, 256]), label shape: torch.Size([4, 60, 256, 256])\n",
            "Sample 149 shape: torch.Size([4, 60, 256, 256]), label shape: torch.Size([4, 60, 256, 256])\n",
            "Sample 150 shape: torch.Size([4, 60, 256, 256]), label shape: torch.Size([4, 60, 256, 256])\n",
            "Sample 151 shape: torch.Size([4, 60, 256, 256]), label shape: torch.Size([4, 60, 256, 256])\n",
            "Sample 152 shape: torch.Size([4, 60, 256, 256]), label shape: torch.Size([4, 60, 256, 256])\n",
            "Sample 153 shape: torch.Size([4, 60, 256, 256]), label shape: torch.Size([4, 60, 256, 256])\n",
            "Sample 154 shape: torch.Size([4, 60, 256, 256]), label shape: torch.Size([4, 60, 256, 256])\n",
            "Sample 155 shape: torch.Size([4, 60, 256, 256]), label shape: torch.Size([4, 60, 256, 256])\n",
            "Sample 156 shape: torch.Size([4, 60, 256, 256]), label shape: torch.Size([4, 60, 256, 256])\n",
            "Sample 157 shape: torch.Size([4, 60, 256, 256]), label shape: torch.Size([4, 60, 256, 256])\n",
            "Sample 158 shape: torch.Size([4, 60, 256, 256]), label shape: torch.Size([4, 60, 256, 256])\n",
            "Sample 159 shape: torch.Size([4, 60, 256, 256]), label shape: torch.Size([4, 60, 256, 256])\n",
            "Sample 160 shape: torch.Size([4, 60, 256, 256]), label shape: torch.Size([4, 60, 256, 256])\n",
            "Sample 161 shape: torch.Size([4, 60, 256, 256]), label shape: torch.Size([4, 60, 256, 256])\n",
            "Sample 162 shape: torch.Size([4, 60, 256, 256]), label shape: torch.Size([4, 60, 256, 256])\n",
            "Sample 163 shape: torch.Size([4, 60, 256, 256]), label shape: torch.Size([4, 60, 256, 256])\n",
            "Sample 164 shape: torch.Size([4, 60, 256, 256]), label shape: torch.Size([4, 60, 256, 256])\n",
            "Sample 165 shape: torch.Size([4, 60, 256, 256]), label shape: torch.Size([4, 60, 256, 256])\n",
            "Sample 166 shape: torch.Size([4, 60, 256, 256]), label shape: torch.Size([4, 60, 256, 256])\n",
            "Sample 167 shape: torch.Size([4, 60, 256, 256]), label shape: torch.Size([4, 60, 256, 256])\n",
            "Sample 168 shape: torch.Size([4, 60, 256, 256]), label shape: torch.Size([4, 60, 256, 256])\n",
            "Sample 169 shape: torch.Size([4, 60, 256, 256]), label shape: torch.Size([4, 60, 256, 256])\n",
            "Sample 170 shape: torch.Size([4, 60, 256, 256]), label shape: torch.Size([4, 60, 256, 256])\n",
            "Sample 171 shape: torch.Size([4, 60, 256, 256]), label shape: torch.Size([4, 60, 256, 256])\n",
            "Sample 172 shape: torch.Size([4, 60, 256, 256]), label shape: torch.Size([4, 60, 256, 256])\n",
            "Sample 173 shape: torch.Size([4, 60, 256, 256]), label shape: torch.Size([4, 60, 256, 256])\n",
            "Sample 174 shape: torch.Size([4, 60, 256, 256]), label shape: torch.Size([4, 60, 256, 256])\n",
            "Sample 175 shape: torch.Size([4, 60, 256, 256]), label shape: torch.Size([4, 60, 256, 256])\n",
            "Sample 176 shape: torch.Size([4, 60, 256, 256]), label shape: torch.Size([4, 60, 256, 256])\n",
            "Sample 177 shape: torch.Size([4, 60, 256, 256]), label shape: torch.Size([4, 60, 256, 256])\n",
            "Sample 178 shape: torch.Size([4, 60, 256, 256]), label shape: torch.Size([4, 60, 256, 256])\n",
            "Sample 179 shape: torch.Size([4, 60, 256, 256]), label shape: torch.Size([4, 60, 256, 256])\n",
            "Sample 180 shape: torch.Size([4, 60, 256, 256]), label shape: torch.Size([4, 60, 256, 256])\n",
            "Sample 181 shape: torch.Size([4, 60, 256, 256]), label shape: torch.Size([4, 60, 256, 256])\n",
            "Sample 182 shape: torch.Size([4, 60, 256, 256]), label shape: torch.Size([4, 60, 256, 256])\n",
            "Sample 183 shape: torch.Size([4, 60, 256, 256]), label shape: torch.Size([4, 60, 256, 256])\n",
            "Sample 184 shape: torch.Size([4, 60, 256, 256]), label shape: torch.Size([4, 60, 256, 256])\n",
            "Sample 185 shape: torch.Size([4, 60, 256, 256]), label shape: torch.Size([4, 60, 256, 256])\n",
            "Sample 186 shape: torch.Size([4, 60, 256, 256]), label shape: torch.Size([4, 60, 256, 256])\n",
            "Sample 187 shape: torch.Size([4, 60, 256, 256]), label shape: torch.Size([4, 60, 256, 256])\n",
            "Sample 188 shape: torch.Size([4, 60, 256, 256]), label shape: torch.Size([4, 60, 256, 256])\n",
            "Sample 189 shape: torch.Size([4, 60, 256, 256]), label shape: torch.Size([4, 60, 256, 256])\n",
            "Sample 190 shape: torch.Size([4, 60, 256, 256]), label shape: torch.Size([4, 60, 256, 256])\n",
            "Sample 191 shape: torch.Size([4, 60, 256, 256]), label shape: torch.Size([4, 60, 256, 256])\n",
            "Sample 192 shape: torch.Size([4, 60, 256, 256]), label shape: torch.Size([4, 60, 256, 256])\n",
            "Sample 193 shape: torch.Size([4, 60, 256, 256]), label shape: torch.Size([4, 60, 256, 256])\n",
            "Sample 194 shape: torch.Size([4, 60, 256, 256]), label shape: torch.Size([4, 60, 256, 256])\n",
            "Sample 195 shape: torch.Size([4, 60, 256, 256]), label shape: torch.Size([4, 60, 256, 256])\n",
            "Sample 196 shape: torch.Size([4, 60, 256, 256]), label shape: torch.Size([4, 60, 256, 256])\n",
            "Sample 197 shape: torch.Size([4, 60, 256, 256]), label shape: torch.Size([4, 60, 256, 256])\n",
            "Sample 198 shape: torch.Size([4, 60, 256, 256]), label shape: torch.Size([4, 60, 256, 256])\n",
            "Sample 199 shape: torch.Size([4, 60, 256, 256]), label shape: torch.Size([4, 60, 256, 256])\n",
            "Sample 200 shape: torch.Size([4, 60, 256, 256]), label shape: torch.Size([4, 60, 256, 256])\n",
            "Sample 201 shape: torch.Size([4, 60, 256, 256]), label shape: torch.Size([4, 60, 256, 256])\n",
            "Sample 202 shape: torch.Size([4, 60, 256, 256]), label shape: torch.Size([4, 60, 256, 256])\n",
            "Sample 203 shape: torch.Size([4, 60, 256, 256]), label shape: torch.Size([4, 60, 256, 256])\n",
            "Sample 204 shape: torch.Size([4, 60, 256, 256]), label shape: torch.Size([4, 60, 256, 256])\n",
            "Sample 205 shape: torch.Size([4, 60, 256, 256]), label shape: torch.Size([4, 60, 256, 256])\n",
            "Sample 206 shape: torch.Size([4, 60, 256, 256]), label shape: torch.Size([4, 60, 256, 256])\n",
            "Sample 207 shape: torch.Size([4, 60, 256, 256]), label shape: torch.Size([4, 60, 256, 256])\n",
            "Sample 208 shape: torch.Size([4, 60, 256, 256]), label shape: torch.Size([4, 60, 256, 256])\n",
            "Sample 209 shape: torch.Size([4, 60, 256, 256]), label shape: torch.Size([4, 60, 256, 256])\n",
            "Sample 210 shape: torch.Size([4, 60, 256, 256]), label shape: torch.Size([4, 60, 256, 256])\n",
            "Sample 211 shape: torch.Size([4, 60, 256, 256]), label shape: torch.Size([4, 60, 256, 256])\n",
            "Sample 212 shape: torch.Size([4, 60, 256, 256]), label shape: torch.Size([4, 60, 256, 256])\n",
            "Sample 213 shape: torch.Size([4, 60, 256, 256]), label shape: torch.Size([4, 60, 256, 256])\n",
            "Sample 214 shape: torch.Size([4, 60, 256, 256]), label shape: torch.Size([4, 60, 256, 256])\n",
            "Sample 215 shape: torch.Size([4, 60, 256, 256]), label shape: torch.Size([4, 60, 256, 256])\n",
            "Sample 216 shape: torch.Size([4, 60, 256, 256]), label shape: torch.Size([4, 60, 256, 256])\n",
            "Sample 217 shape: torch.Size([4, 60, 256, 256]), label shape: torch.Size([4, 60, 256, 256])\n",
            "Sample 218 shape: torch.Size([4, 60, 256, 256]), label shape: torch.Size([4, 60, 256, 256])\n",
            "Sample 219 shape: torch.Size([4, 60, 256, 256]), label shape: torch.Size([4, 60, 256, 256])\n",
            "Sample 220 shape: torch.Size([4, 60, 256, 256]), label shape: torch.Size([4, 60, 256, 256])\n",
            "Sample 221 shape: torch.Size([4, 60, 256, 256]), label shape: torch.Size([4, 60, 256, 256])\n",
            "Sample 222 shape: torch.Size([4, 60, 256, 256]), label shape: torch.Size([4, 60, 256, 256])\n",
            "Sample 223 shape: torch.Size([4, 60, 256, 256]), label shape: torch.Size([4, 60, 256, 256])\n",
            "Sample 224 shape: torch.Size([4, 60, 256, 256]), label shape: torch.Size([4, 60, 256, 256])\n",
            "Sample 225 shape: torch.Size([4, 60, 256, 256]), label shape: torch.Size([4, 60, 256, 256])\n",
            "Sample 226 shape: torch.Size([4, 60, 256, 256]), label shape: torch.Size([4, 60, 256, 256])\n",
            "Sample 227 shape: torch.Size([4, 60, 256, 256]), label shape: torch.Size([4, 60, 256, 256])\n",
            "Sample 228 shape: torch.Size([4, 60, 256, 256]), label shape: torch.Size([4, 60, 256, 256])\n",
            "Sample 229 shape: torch.Size([4, 60, 256, 256]), label shape: torch.Size([4, 60, 256, 256])\n",
            "Sample 230 shape: torch.Size([4, 60, 256, 256]), label shape: torch.Size([4, 60, 256, 256])\n",
            "Sample 231 shape: torch.Size([4, 60, 256, 256]), label shape: torch.Size([4, 60, 256, 256])\n",
            "Sample 232 shape: torch.Size([4, 60, 256, 256]), label shape: torch.Size([4, 60, 256, 256])\n",
            "Sample 233 shape: torch.Size([4, 60, 256, 256]), label shape: torch.Size([4, 60, 256, 256])\n",
            "Sample 234 shape: torch.Size([4, 60, 256, 256]), label shape: torch.Size([4, 60, 256, 256])\n",
            "Sample 235 shape: torch.Size([4, 60, 256, 256]), label shape: torch.Size([4, 60, 256, 256])\n",
            "Sample 236 shape: torch.Size([4, 60, 256, 256]), label shape: torch.Size([4, 60, 256, 256])\n",
            "Sample 237 shape: torch.Size([4, 60, 256, 256]), label shape: torch.Size([4, 60, 256, 256])\n",
            "Sample 238 shape: torch.Size([4, 60, 256, 256]), label shape: torch.Size([4, 60, 256, 256])\n",
            "Sample 239 shape: torch.Size([4, 60, 256, 256]), label shape: torch.Size([4, 60, 256, 256])\n",
            "Sample 240 shape: torch.Size([4, 60, 256, 256]), label shape: torch.Size([4, 60, 256, 256])\n",
            "Sample 241 shape: torch.Size([4, 60, 256, 256]), label shape: torch.Size([4, 60, 256, 256])\n",
            "Sample 242 shape: torch.Size([4, 60, 256, 256]), label shape: torch.Size([4, 60, 256, 256])\n",
            "Sample 243 shape: torch.Size([4, 60, 256, 256]), label shape: torch.Size([4, 60, 256, 256])\n",
            "Sample 244 shape: torch.Size([4, 60, 256, 256]), label shape: torch.Size([4, 60, 256, 256])\n",
            "Sample 245 shape: torch.Size([4, 60, 256, 256]), label shape: torch.Size([4, 60, 256, 256])\n",
            "Sample 246 shape: torch.Size([4, 60, 256, 256]), label shape: torch.Size([4, 60, 256, 256])\n",
            "Sample 247 shape: torch.Size([4, 60, 256, 256]), label shape: torch.Size([4, 60, 256, 256])\n",
            "Sample 248 shape: torch.Size([4, 60, 256, 256]), label shape: torch.Size([4, 60, 256, 256])\n",
            "Sample 249 shape: torch.Size([4, 60, 256, 256]), label shape: torch.Size([4, 60, 256, 256])\n",
            "Sample 250 shape: torch.Size([4, 60, 256, 256]), label shape: torch.Size([4, 60, 256, 256])\n",
            "Sample 251 shape: torch.Size([4, 60, 256, 256]), label shape: torch.Size([4, 60, 256, 256])\n",
            "Sample 252 shape: torch.Size([4, 60, 256, 256]), label shape: torch.Size([4, 60, 256, 256])\n",
            "Sample 253 shape: torch.Size([4, 60, 256, 256]), label shape: torch.Size([4, 60, 256, 256])\n",
            "Sample 254 shape: torch.Size([4, 60, 256, 256]), label shape: torch.Size([4, 60, 256, 256])\n",
            "Sample 255 shape: torch.Size([4, 60, 256, 256]), label shape: torch.Size([4, 60, 256, 256])\n",
            "Sample 256 shape: torch.Size([4, 60, 256, 256]), label shape: torch.Size([4, 60, 256, 256])\n",
            "Sample 257 shape: torch.Size([4, 60, 256, 256]), label shape: torch.Size([4, 60, 256, 256])\n",
            "Sample 258 shape: torch.Size([4, 60, 256, 256]), label shape: torch.Size([4, 60, 256, 256])\n",
            "Sample 259 shape: torch.Size([4, 60, 256, 256]), label shape: torch.Size([4, 60, 256, 256])\n",
            "Sample 260 shape: torch.Size([4, 60, 256, 256]), label shape: torch.Size([4, 60, 256, 256])\n",
            "Sample 261 shape: torch.Size([4, 60, 256, 256]), label shape: torch.Size([4, 60, 256, 256])\n",
            "Sample 262 shape: torch.Size([4, 60, 256, 256]), label shape: torch.Size([4, 60, 256, 256])\n",
            "Sample 263 shape: torch.Size([4, 60, 256, 256]), label shape: torch.Size([4, 60, 256, 256])\n",
            "Sample 264 shape: torch.Size([4, 60, 256, 256]), label shape: torch.Size([4, 60, 256, 256])\n",
            "Sample 265 shape: torch.Size([4, 60, 256, 256]), label shape: torch.Size([4, 60, 256, 256])\n",
            "Sample 266 shape: torch.Size([4, 60, 256, 256]), label shape: torch.Size([4, 60, 256, 256])\n",
            "Sample 267 shape: torch.Size([4, 60, 256, 256]), label shape: torch.Size([4, 60, 256, 256])\n",
            "Sample 268 shape: torch.Size([4, 60, 256, 256]), label shape: torch.Size([4, 60, 256, 256])\n",
            "Sample 269 shape: torch.Size([4, 60, 256, 256]), label shape: torch.Size([4, 60, 256, 256])\n",
            "Sample 270 shape: torch.Size([4, 60, 256, 256]), label shape: torch.Size([4, 60, 256, 256])\n",
            "Sample 271 shape: torch.Size([4, 60, 256, 256]), label shape: torch.Size([4, 60, 256, 256])\n",
            "Sample 272 shape: torch.Size([4, 60, 256, 256]), label shape: torch.Size([4, 60, 256, 256])\n",
            "Sample 273 shape: torch.Size([4, 60, 256, 256]), label shape: torch.Size([4, 60, 256, 256])\n",
            "Sample 274 shape: torch.Size([4, 60, 256, 256]), label shape: torch.Size([4, 60, 256, 256])\n",
            "Sample 275 shape: torch.Size([4, 60, 256, 256]), label shape: torch.Size([4, 60, 256, 256])\n",
            "Sample 276 shape: torch.Size([4, 60, 256, 256]), label shape: torch.Size([4, 60, 256, 256])\n",
            "Sample 277 shape: torch.Size([4, 60, 256, 256]), label shape: torch.Size([4, 60, 256, 256])\n",
            "Sample 278 shape: torch.Size([4, 60, 256, 256]), label shape: torch.Size([4, 60, 256, 256])\n",
            "Sample 279 shape: torch.Size([4, 60, 256, 256]), label shape: torch.Size([4, 60, 256, 256])\n",
            "Sample 280 shape: torch.Size([4, 60, 256, 256]), label shape: torch.Size([4, 60, 256, 256])\n",
            "Sample 281 shape: torch.Size([4, 60, 256, 256]), label shape: torch.Size([4, 60, 256, 256])\n",
            "Sample 282 shape: torch.Size([4, 60, 256, 256]), label shape: torch.Size([4, 60, 256, 256])\n",
            "Sample 283 shape: torch.Size([4, 60, 256, 256]), label shape: torch.Size([4, 60, 256, 256])\n",
            "Sample 284 shape: torch.Size([4, 60, 256, 256]), label shape: torch.Size([4, 60, 256, 256])\n",
            "Sample 285 shape: torch.Size([4, 60, 256, 256]), label shape: torch.Size([4, 60, 256, 256])\n",
            "Sample 286 shape: torch.Size([4, 60, 256, 256]), label shape: torch.Size([4, 60, 256, 256])\n",
            "Sample 287 shape: torch.Size([4, 60, 256, 256]), label shape: torch.Size([4, 60, 256, 256])\n",
            "Sample 288 shape: torch.Size([4, 60, 256, 256]), label shape: torch.Size([4, 60, 256, 256])\n",
            "Sample 289 shape: torch.Size([4, 60, 256, 256]), label shape: torch.Size([4, 60, 256, 256])\n",
            "Sample 290 shape: torch.Size([4, 60, 256, 256]), label shape: torch.Size([4, 60, 256, 256])\n",
            "Sample 291 shape: torch.Size([4, 60, 256, 256]), label shape: torch.Size([4, 60, 256, 256])\n",
            "Sample 292 shape: torch.Size([4, 60, 256, 256]), label shape: torch.Size([4, 60, 256, 256])\n",
            "Sample 293 shape: torch.Size([4, 60, 256, 256]), label shape: torch.Size([4, 60, 256, 256])\n",
            "Sample 294 shape: torch.Size([4, 60, 256, 256]), label shape: torch.Size([4, 60, 256, 256])\n",
            "Sample 295 shape: torch.Size([4, 60, 256, 256]), label shape: torch.Size([4, 60, 256, 256])\n",
            "Sample 296 shape: torch.Size([4, 60, 256, 256]), label shape: torch.Size([4, 60, 256, 256])\n",
            "Sample 297 shape: torch.Size([4, 60, 256, 256]), label shape: torch.Size([4, 60, 256, 256])\n",
            "Sample 298 shape: torch.Size([4, 60, 256, 256]), label shape: torch.Size([4, 60, 256, 256])\n",
            "Sample 299 shape: torch.Size([4, 60, 256, 256]), label shape: torch.Size([4, 60, 256, 256])\n",
            "Sample 300 shape: torch.Size([4, 60, 256, 256]), label shape: torch.Size([4, 60, 256, 256])\n",
            "Sample 301 shape: torch.Size([4, 60, 256, 256]), label shape: torch.Size([4, 60, 256, 256])\n",
            "Sample 302 shape: torch.Size([4, 60, 256, 256]), label shape: torch.Size([4, 60, 256, 256])\n",
            "Sample 303 shape: torch.Size([4, 60, 256, 256]), label shape: torch.Size([4, 60, 256, 256])\n",
            "Sample 304 shape: torch.Size([4, 60, 256, 256]), label shape: torch.Size([4, 60, 256, 256])\n",
            "Sample 305 shape: torch.Size([4, 60, 256, 256]), label shape: torch.Size([4, 60, 256, 256])\n",
            "Sample 306 shape: torch.Size([4, 60, 256, 256]), label shape: torch.Size([4, 60, 256, 256])\n",
            "Sample 307 shape: torch.Size([4, 60, 256, 256]), label shape: torch.Size([4, 60, 256, 256])\n",
            "Sample 308 shape: torch.Size([4, 60, 256, 256]), label shape: torch.Size([4, 60, 256, 256])\n",
            "Sample 309 shape: torch.Size([4, 60, 256, 256]), label shape: torch.Size([4, 60, 256, 256])\n",
            "Sample 310 shape: torch.Size([4, 60, 256, 256]), label shape: torch.Size([4, 60, 256, 256])\n",
            "Sample 311 shape: torch.Size([4, 60, 256, 256]), label shape: torch.Size([4, 60, 256, 256])\n",
            "Sample 312 shape: torch.Size([4, 60, 256, 256]), label shape: torch.Size([4, 60, 256, 256])\n",
            "Sample 313 shape: torch.Size([4, 60, 256, 256]), label shape: torch.Size([4, 60, 256, 256])\n",
            "Sample 314 shape: torch.Size([4, 60, 256, 256]), label shape: torch.Size([4, 60, 256, 256])\n",
            "Sample 315 shape: torch.Size([4, 60, 256, 256]), label shape: torch.Size([4, 60, 256, 256])\n",
            "Sample 316 shape: torch.Size([4, 60, 256, 256]), label shape: torch.Size([4, 60, 256, 256])\n",
            "Sample 317 shape: torch.Size([4, 60, 256, 256]), label shape: torch.Size([4, 60, 256, 256])\n",
            "Sample 318 shape: torch.Size([4, 60, 256, 256]), label shape: torch.Size([4, 60, 256, 256])\n",
            "Sample 319 shape: torch.Size([4, 60, 256, 256]), label shape: torch.Size([4, 60, 256, 256])\n",
            "Sample 320 shape: torch.Size([4, 60, 256, 256]), label shape: torch.Size([4, 60, 256, 256])\n",
            "Sample 321 shape: torch.Size([4, 60, 256, 256]), label shape: torch.Size([4, 60, 256, 256])\n",
            "Sample 322 shape: torch.Size([4, 60, 256, 256]), label shape: torch.Size([4, 60, 256, 256])\n",
            "Sample 323 shape: torch.Size([4, 60, 256, 256]), label shape: torch.Size([4, 60, 256, 256])\n"
          ]
        }
      ]
    },
    {
      "cell_type": "code",
      "source": [
        "model = torch.hub.load('facebookresearch/pytorchvideo', 'slow_r50', pretrained=False)\n",
        "model.blocks[0].conv = nn.Conv3d(\n",
        "    in_channels=4,\n",
        "    out_channels=model.blocks[0].conv.out_channels,\n",
        "    kernel_size=model.blocks[0].conv.kernel_size,\n",
        "    stride=model.blocks[0].conv.stride,\n",
        "    padding=model.blocks[0].conv.padding,\n",
        "    bias=model.blocks[0].conv.bias is not None\n",
        ")\n",
        "\n",
        "class SlowR50Reconstructor(nn.Module):\n",
        "    def __init__(self, base_model):\n",
        "        super(SlowR50Reconstructor, self).__init__()\n",
        "        self.encoder = nn.Sequential(*list(base_model.blocks[:-3]))\n",
        "        self.decoder = nn.Sequential(\n",
        "            nn.ConvTranspose3d(512, 256, kernel_size=3, stride=(1, 2, 2), padding=1, output_padding=(0, 1, 1)),\n",
        "            nn.BatchNorm3d(256),\n",
        "            nn.ReLU(),\n",
        "            nn.ConvTranspose3d(256, 64, kernel_size=3, stride=(1, 2, 2), padding=1, output_padding=(0, 1, 1)),\n",
        "            nn.BatchNorm3d(64),\n",
        "            nn.ReLU(),\n",
        "            nn.ConvTranspose3d(64, 4, kernel_size=3, stride=(1, 2, 2), padding=1, output_padding=(0, 1, 1)),\n",
        "            nn.Sigmoid()\n",
        "        )\n",
        "\n",
        "    def forward(self, x):\n",
        "        x = self.encoder(x)\n",
        "        x = self.decoder(x)\n",
        "        return x\n",
        "\n",
        "model = SlowR50Reconstructor(model)\n",
        "model.to(device)\n",
        "summary(model, input_size=(4, 60, 256, 256), device=str(device))"
      ],
      "metadata": {
        "colab": {
          "base_uri": "https://localhost:8080/"
        },
        "id": "RH1il5RVAWj3",
        "outputId": "6cd9358f-550c-41e8-a78c-06b6b6e08f09"
      },
      "execution_count": 8,
      "outputs": [
        {
          "output_type": "stream",
          "name": "stderr",
          "text": [
            "Using cache found in /root/.cache/torch/hub/facebookresearch_pytorchvideo_main\n"
          ]
        },
        {
          "output_type": "stream",
          "name": "stdout",
          "text": [
            "----------------------------------------------------------------\n",
            "        Layer (type)               Output Shape         Param #\n",
            "================================================================\n",
            "            Conv3d-1     [-1, 64, 60, 128, 128]          12,544\n",
            "       BatchNorm3d-2     [-1, 64, 60, 128, 128]             128\n",
            "              ReLU-3     [-1, 64, 60, 128, 128]               0\n",
            "         MaxPool3d-4       [-1, 64, 60, 64, 64]               0\n",
            "   ResNetBasicStem-5       [-1, 64, 60, 64, 64]               0\n",
            "            Conv3d-6      [-1, 256, 60, 64, 64]          16,384\n",
            "       BatchNorm3d-7      [-1, 256, 60, 64, 64]             512\n",
            "            Conv3d-8       [-1, 64, 60, 64, 64]           4,096\n",
            "       BatchNorm3d-9       [-1, 64, 60, 64, 64]             128\n",
            "             ReLU-10       [-1, 64, 60, 64, 64]               0\n",
            "           Conv3d-11       [-1, 64, 60, 64, 64]          36,864\n",
            "      BatchNorm3d-12       [-1, 64, 60, 64, 64]             128\n",
            "             ReLU-13       [-1, 64, 60, 64, 64]               0\n",
            "           Conv3d-14      [-1, 256, 60, 64, 64]          16,384\n",
            "      BatchNorm3d-15      [-1, 256, 60, 64, 64]             512\n",
            "  BottleneckBlock-16      [-1, 256, 60, 64, 64]               0\n",
            "             ReLU-17      [-1, 256, 60, 64, 64]               0\n",
            "         ResBlock-18      [-1, 256, 60, 64, 64]               0\n",
            "           Conv3d-19       [-1, 64, 60, 64, 64]          16,384\n",
            "      BatchNorm3d-20       [-1, 64, 60, 64, 64]             128\n",
            "             ReLU-21       [-1, 64, 60, 64, 64]               0\n",
            "           Conv3d-22       [-1, 64, 60, 64, 64]          36,864\n",
            "      BatchNorm3d-23       [-1, 64, 60, 64, 64]             128\n",
            "             ReLU-24       [-1, 64, 60, 64, 64]               0\n",
            "           Conv3d-25      [-1, 256, 60, 64, 64]          16,384\n",
            "      BatchNorm3d-26      [-1, 256, 60, 64, 64]             512\n",
            "  BottleneckBlock-27      [-1, 256, 60, 64, 64]               0\n",
            "             ReLU-28      [-1, 256, 60, 64, 64]               0\n",
            "         ResBlock-29      [-1, 256, 60, 64, 64]               0\n",
            "           Conv3d-30       [-1, 64, 60, 64, 64]          16,384\n",
            "      BatchNorm3d-31       [-1, 64, 60, 64, 64]             128\n",
            "             ReLU-32       [-1, 64, 60, 64, 64]               0\n",
            "           Conv3d-33       [-1, 64, 60, 64, 64]          36,864\n",
            "      BatchNorm3d-34       [-1, 64, 60, 64, 64]             128\n",
            "             ReLU-35       [-1, 64, 60, 64, 64]               0\n",
            "           Conv3d-36      [-1, 256, 60, 64, 64]          16,384\n",
            "      BatchNorm3d-37      [-1, 256, 60, 64, 64]             512\n",
            "  BottleneckBlock-38      [-1, 256, 60, 64, 64]               0\n",
            "             ReLU-39      [-1, 256, 60, 64, 64]               0\n",
            "         ResBlock-40      [-1, 256, 60, 64, 64]               0\n",
            "         ResStage-41      [-1, 256, 60, 64, 64]               0\n",
            "           Conv3d-42      [-1, 512, 60, 32, 32]         131,072\n",
            "      BatchNorm3d-43      [-1, 512, 60, 32, 32]           1,024\n",
            "           Conv3d-44      [-1, 128, 60, 64, 64]          32,768\n",
            "      BatchNorm3d-45      [-1, 128, 60, 64, 64]             256\n",
            "             ReLU-46      [-1, 128, 60, 64, 64]               0\n",
            "           Conv3d-47      [-1, 128, 60, 32, 32]         147,456\n",
            "      BatchNorm3d-48      [-1, 128, 60, 32, 32]             256\n",
            "             ReLU-49      [-1, 128, 60, 32, 32]               0\n",
            "           Conv3d-50      [-1, 512, 60, 32, 32]          65,536\n",
            "      BatchNorm3d-51      [-1, 512, 60, 32, 32]           1,024\n",
            "  BottleneckBlock-52      [-1, 512, 60, 32, 32]               0\n",
            "             ReLU-53      [-1, 512, 60, 32, 32]               0\n",
            "         ResBlock-54      [-1, 512, 60, 32, 32]               0\n",
            "           Conv3d-55      [-1, 128, 60, 32, 32]          65,536\n",
            "      BatchNorm3d-56      [-1, 128, 60, 32, 32]             256\n",
            "             ReLU-57      [-1, 128, 60, 32, 32]               0\n",
            "           Conv3d-58      [-1, 128, 60, 32, 32]         147,456\n",
            "      BatchNorm3d-59      [-1, 128, 60, 32, 32]             256\n",
            "             ReLU-60      [-1, 128, 60, 32, 32]               0\n",
            "           Conv3d-61      [-1, 512, 60, 32, 32]          65,536\n",
            "      BatchNorm3d-62      [-1, 512, 60, 32, 32]           1,024\n",
            "  BottleneckBlock-63      [-1, 512, 60, 32, 32]               0\n",
            "             ReLU-64      [-1, 512, 60, 32, 32]               0\n",
            "         ResBlock-65      [-1, 512, 60, 32, 32]               0\n",
            "           Conv3d-66      [-1, 128, 60, 32, 32]          65,536\n",
            "      BatchNorm3d-67      [-1, 128, 60, 32, 32]             256\n",
            "             ReLU-68      [-1, 128, 60, 32, 32]               0\n",
            "           Conv3d-69      [-1, 128, 60, 32, 32]         147,456\n",
            "      BatchNorm3d-70      [-1, 128, 60, 32, 32]             256\n",
            "             ReLU-71      [-1, 128, 60, 32, 32]               0\n",
            "           Conv3d-72      [-1, 512, 60, 32, 32]          65,536\n",
            "      BatchNorm3d-73      [-1, 512, 60, 32, 32]           1,024\n",
            "  BottleneckBlock-74      [-1, 512, 60, 32, 32]               0\n",
            "             ReLU-75      [-1, 512, 60, 32, 32]               0\n",
            "         ResBlock-76      [-1, 512, 60, 32, 32]               0\n",
            "           Conv3d-77      [-1, 128, 60, 32, 32]          65,536\n",
            "      BatchNorm3d-78      [-1, 128, 60, 32, 32]             256\n",
            "             ReLU-79      [-1, 128, 60, 32, 32]               0\n",
            "           Conv3d-80      [-1, 128, 60, 32, 32]         147,456\n",
            "      BatchNorm3d-81      [-1, 128, 60, 32, 32]             256\n",
            "             ReLU-82      [-1, 128, 60, 32, 32]               0\n",
            "           Conv3d-83      [-1, 512, 60, 32, 32]          65,536\n",
            "      BatchNorm3d-84      [-1, 512, 60, 32, 32]           1,024\n",
            "  BottleneckBlock-85      [-1, 512, 60, 32, 32]               0\n",
            "             ReLU-86      [-1, 512, 60, 32, 32]               0\n",
            "         ResBlock-87      [-1, 512, 60, 32, 32]               0\n",
            "         ResStage-88      [-1, 512, 60, 32, 32]               0\n",
            "  ConvTranspose3d-89      [-1, 256, 60, 64, 64]       3,539,200\n",
            "      BatchNorm3d-90      [-1, 256, 60, 64, 64]             512\n",
            "             ReLU-91      [-1, 256, 60, 64, 64]               0\n",
            "  ConvTranspose3d-92     [-1, 64, 60, 128, 128]         442,432\n",
            "      BatchNorm3d-93     [-1, 64, 60, 128, 128]             128\n",
            "             ReLU-94     [-1, 64, 60, 128, 128]               0\n",
            "  ConvTranspose3d-95      [-1, 4, 60, 256, 256]           6,916\n",
            "          Sigmoid-96      [-1, 4, 60, 256, 256]               0\n",
            "================================================================\n",
            "Total params: 5,437,252\n",
            "Trainable params: 5,437,252\n",
            "Non-trainable params: 0\n",
            "----------------------------------------------------------------\n",
            "Input size (MB): 60.00\n",
            "Forward/backward pass size (MB): 23100.00\n",
            "Params size (MB): 20.74\n",
            "Estimated Total Size (MB): 23180.74\n",
            "----------------------------------------------------------------\n"
          ]
        }
      ]
    },
    {
      "cell_type": "code",
      "source": [
        "criterion = nn.MSELoss()\n",
        "optimizer = optim.Adam(model.parameters(), lr=1e-4)\n",
        "\n",
        "num_epochs = 50\n",
        "losses = []\n",
        "for epoch in range(num_epochs):\n",
        "    model.train()\n",
        "    running_loss = 0.0\n",
        "    for inputs, label in tqdm(dataloader):  # Only need inputs, as labels are not needed for reconstruction\n",
        "        inputs, label = inputs.to(device), label.to(device)\n",
        "\n",
        "        optimizer.zero_grad()\n",
        "        outputs = model(inputs)  # The model should reconstruct the input in the correct order\n",
        "\n",
        "        # Calculate reconstruction loss between outputs and inputs\n",
        "        loss = criterion(outputs, label)\n",
        "\n",
        "        loss.backward()\n",
        "        optimizer.step()\n",
        "        running_loss += loss.item()\n",
        "\n",
        "    print(f'Epoch {epoch+1}, Loss: {running_loss/len(dataloader)}')\n",
        "    losses.append(running_loss/len(dataloader))\n"
      ],
      "metadata": {
        "colab": {
          "base_uri": "https://localhost:8080/"
        },
        "id": "AVPNbSPNKPUm",
        "outputId": "cb847062-6be1-45ec-b1c9-e6433c2af9b9"
      },
      "execution_count": 9,
      "outputs": [
        {
          "output_type": "stream",
          "name": "stderr",
          "text": [
            "100%|██████████| 81/81 [08:01<00:00,  5.95s/it]\n"
          ]
        },
        {
          "output_type": "stream",
          "name": "stdout",
          "text": [
            "Epoch 1, Loss: 0.0842051825221674\n"
          ]
        },
        {
          "output_type": "stream",
          "name": "stderr",
          "text": [
            "100%|██████████| 81/81 [08:00<00:00,  5.93s/it]\n"
          ]
        },
        {
          "output_type": "stream",
          "name": "stdout",
          "text": [
            "Epoch 2, Loss: 0.024077059574609185\n"
          ]
        },
        {
          "output_type": "stream",
          "name": "stderr",
          "text": [
            "100%|██████████| 81/81 [08:00<00:00,  5.93s/it]\n"
          ]
        },
        {
          "output_type": "stream",
          "name": "stdout",
          "text": [
            "Epoch 3, Loss: 0.011239093613385417\n"
          ]
        },
        {
          "output_type": "stream",
          "name": "stderr",
          "text": [
            "100%|██████████| 81/81 [08:00<00:00,  5.93s/it]\n"
          ]
        },
        {
          "output_type": "stream",
          "name": "stdout",
          "text": [
            "Epoch 4, Loss: 0.0069684467140447215\n"
          ]
        },
        {
          "output_type": "stream",
          "name": "stderr",
          "text": [
            "100%|██████████| 81/81 [08:01<00:00,  5.94s/it]\n"
          ]
        },
        {
          "output_type": "stream",
          "name": "stdout",
          "text": [
            "Epoch 5, Loss: 0.005050126161357319\n"
          ]
        },
        {
          "output_type": "stream",
          "name": "stderr",
          "text": [
            "100%|██████████| 81/81 [08:01<00:00,  5.94s/it]\n"
          ]
        },
        {
          "output_type": "stream",
          "name": "stdout",
          "text": [
            "Epoch 6, Loss: 0.004136778422872777\n"
          ]
        },
        {
          "output_type": "stream",
          "name": "stderr",
          "text": [
            "100%|██████████| 81/81 [07:59<00:00,  5.92s/it]\n"
          ]
        },
        {
          "output_type": "stream",
          "name": "stdout",
          "text": [
            "Epoch 7, Loss: 0.0036633149979429114\n"
          ]
        },
        {
          "output_type": "stream",
          "name": "stderr",
          "text": [
            "100%|██████████| 81/81 [08:01<00:00,  5.94s/it]\n"
          ]
        },
        {
          "output_type": "stream",
          "name": "stdout",
          "text": [
            "Epoch 8, Loss: 0.003361533758127027\n"
          ]
        },
        {
          "output_type": "stream",
          "name": "stderr",
          "text": [
            "100%|██████████| 81/81 [07:59<00:00,  5.92s/it]\n"
          ]
        },
        {
          "output_type": "stream",
          "name": "stdout",
          "text": [
            "Epoch 9, Loss: 0.003170739888087099\n"
          ]
        },
        {
          "output_type": "stream",
          "name": "stderr",
          "text": [
            "100%|██████████| 81/81 [08:00<00:00,  5.93s/it]\n"
          ]
        },
        {
          "output_type": "stream",
          "name": "stdout",
          "text": [
            "Epoch 10, Loss: 0.003045928402930314\n"
          ]
        },
        {
          "output_type": "stream",
          "name": "stderr",
          "text": [
            "100%|██████████| 81/81 [08:00<00:00,  5.94s/it]\n"
          ]
        },
        {
          "output_type": "stream",
          "name": "stdout",
          "text": [
            "Epoch 11, Loss: 0.0029587614778314292\n"
          ]
        },
        {
          "output_type": "stream",
          "name": "stderr",
          "text": [
            "100%|██████████| 81/81 [07:59<00:00,  5.92s/it]\n"
          ]
        },
        {
          "output_type": "stream",
          "name": "stdout",
          "text": [
            "Epoch 12, Loss: 0.002911370765003893\n"
          ]
        },
        {
          "output_type": "stream",
          "name": "stderr",
          "text": [
            "100%|██████████| 81/81 [07:59<00:00,  5.91s/it]\n"
          ]
        },
        {
          "output_type": "stream",
          "name": "stdout",
          "text": [
            "Epoch 13, Loss: 0.002893152834997041\n"
          ]
        },
        {
          "output_type": "stream",
          "name": "stderr",
          "text": [
            "100%|██████████| 81/81 [07:59<00:00,  5.92s/it]\n"
          ]
        },
        {
          "output_type": "stream",
          "name": "stdout",
          "text": [
            "Epoch 14, Loss: 0.002826157023118418\n"
          ]
        },
        {
          "output_type": "stream",
          "name": "stderr",
          "text": [
            "100%|██████████| 81/81 [08:01<00:00,  5.94s/it]\n"
          ]
        },
        {
          "output_type": "stream",
          "name": "stdout",
          "text": [
            "Epoch 15, Loss: 0.002807272257524784\n"
          ]
        },
        {
          "output_type": "stream",
          "name": "stderr",
          "text": [
            "100%|██████████| 81/81 [08:00<00:00,  5.93s/it]\n"
          ]
        },
        {
          "output_type": "stream",
          "name": "stdout",
          "text": [
            "Epoch 16, Loss: 0.002757813607595493\n"
          ]
        },
        {
          "output_type": "stream",
          "name": "stderr",
          "text": [
            "100%|██████████| 81/81 [07:59<00:00,  5.92s/it]\n"
          ]
        },
        {
          "output_type": "stream",
          "name": "stdout",
          "text": [
            "Epoch 17, Loss: 0.002769696146801666\n"
          ]
        },
        {
          "output_type": "stream",
          "name": "stderr",
          "text": [
            "100%|██████████| 81/81 [08:00<00:00,  5.93s/it]\n"
          ]
        },
        {
          "output_type": "stream",
          "name": "stdout",
          "text": [
            "Epoch 18, Loss: 0.0027462879618353865\n"
          ]
        },
        {
          "output_type": "stream",
          "name": "stderr",
          "text": [
            "100%|██████████| 81/81 [07:58<00:00,  5.90s/it]\n"
          ]
        },
        {
          "output_type": "stream",
          "name": "stdout",
          "text": [
            "Epoch 19, Loss: 0.0027187504420447864\n"
          ]
        },
        {
          "output_type": "stream",
          "name": "stderr",
          "text": [
            "100%|██████████| 81/81 [07:59<00:00,  5.92s/it]\n"
          ]
        },
        {
          "output_type": "stream",
          "name": "stdout",
          "text": [
            "Epoch 20, Loss: 0.0027052400185278167\n"
          ]
        },
        {
          "output_type": "stream",
          "name": "stderr",
          "text": [
            "100%|██████████| 81/81 [08:00<00:00,  5.94s/it]\n"
          ]
        },
        {
          "output_type": "stream",
          "name": "stdout",
          "text": [
            "Epoch 21, Loss: 0.0026973174528483255\n"
          ]
        },
        {
          "output_type": "stream",
          "name": "stderr",
          "text": [
            "100%|██████████| 81/81 [07:59<00:00,  5.92s/it]\n"
          ]
        },
        {
          "output_type": "stream",
          "name": "stdout",
          "text": [
            "Epoch 22, Loss: 0.002695286024166386\n"
          ]
        },
        {
          "output_type": "stream",
          "name": "stderr",
          "text": [
            "100%|██████████| 81/81 [08:00<00:00,  5.94s/it]\n"
          ]
        },
        {
          "output_type": "stream",
          "name": "stdout",
          "text": [
            "Epoch 23, Loss: 0.0026589742068339277\n"
          ]
        },
        {
          "output_type": "stream",
          "name": "stderr",
          "text": [
            "100%|██████████| 81/81 [07:58<00:00,  5.91s/it]\n"
          ]
        },
        {
          "output_type": "stream",
          "name": "stdout",
          "text": [
            "Epoch 24, Loss: 0.0026465131912702397\n"
          ]
        },
        {
          "output_type": "stream",
          "name": "stderr",
          "text": [
            "100%|██████████| 81/81 [07:59<00:00,  5.92s/it]\n"
          ]
        },
        {
          "output_type": "stream",
          "name": "stdout",
          "text": [
            "Epoch 25, Loss: 0.0026456486522852454\n"
          ]
        },
        {
          "output_type": "stream",
          "name": "stderr",
          "text": [
            "100%|██████████| 81/81 [07:58<00:00,  5.91s/it]\n"
          ]
        },
        {
          "output_type": "stream",
          "name": "stdout",
          "text": [
            "Epoch 26, Loss: 0.002631964005334418\n"
          ]
        },
        {
          "output_type": "stream",
          "name": "stderr",
          "text": [
            "100%|██████████| 81/81 [07:59<00:00,  5.92s/it]\n"
          ]
        },
        {
          "output_type": "stream",
          "name": "stdout",
          "text": [
            "Epoch 27, Loss: 0.002647535753275417\n"
          ]
        },
        {
          "output_type": "stream",
          "name": "stderr",
          "text": [
            "100%|██████████| 81/81 [07:59<00:00,  5.92s/it]\n"
          ]
        },
        {
          "output_type": "stream",
          "name": "stdout",
          "text": [
            "Epoch 28, Loss: 0.00265066514659765\n"
          ]
        },
        {
          "output_type": "stream",
          "name": "stderr",
          "text": [
            "100%|██████████| 81/81 [07:59<00:00,  5.92s/it]\n"
          ]
        },
        {
          "output_type": "stream",
          "name": "stdout",
          "text": [
            "Epoch 29, Loss: 0.0026161564976827784\n"
          ]
        },
        {
          "output_type": "stream",
          "name": "stderr",
          "text": [
            "100%|██████████| 81/81 [08:00<00:00,  5.94s/it]\n"
          ]
        },
        {
          "output_type": "stream",
          "name": "stdout",
          "text": [
            "Epoch 30, Loss: 0.002612722182450931\n"
          ]
        },
        {
          "output_type": "stream",
          "name": "stderr",
          "text": [
            "100%|██████████| 81/81 [08:05<00:00,  5.99s/it]\n"
          ]
        },
        {
          "output_type": "stream",
          "name": "stdout",
          "text": [
            "Epoch 31, Loss: 0.0026361193510784225\n"
          ]
        },
        {
          "output_type": "stream",
          "name": "stderr",
          "text": [
            "100%|██████████| 81/81 [08:00<00:00,  5.93s/it]\n"
          ]
        },
        {
          "output_type": "stream",
          "name": "stdout",
          "text": [
            "Epoch 32, Loss: 0.0025935554158310462\n"
          ]
        },
        {
          "output_type": "stream",
          "name": "stderr",
          "text": [
            "100%|██████████| 81/81 [08:00<00:00,  5.93s/it]\n"
          ]
        },
        {
          "output_type": "stream",
          "name": "stdout",
          "text": [
            "Epoch 33, Loss: 0.0025932275716008413\n"
          ]
        },
        {
          "output_type": "stream",
          "name": "stderr",
          "text": [
            "100%|██████████| 81/81 [07:58<00:00,  5.91s/it]\n"
          ]
        },
        {
          "output_type": "stream",
          "name": "stdout",
          "text": [
            "Epoch 34, Loss: 0.002573534806063514\n"
          ]
        },
        {
          "output_type": "stream",
          "name": "stderr",
          "text": [
            "100%|██████████| 81/81 [07:59<00:00,  5.92s/it]\n"
          ]
        },
        {
          "output_type": "stream",
          "name": "stdout",
          "text": [
            "Epoch 35, Loss: 0.002598316545230279\n"
          ]
        },
        {
          "output_type": "stream",
          "name": "stderr",
          "text": [
            "100%|██████████| 81/81 [07:58<00:00,  5.91s/it]\n"
          ]
        },
        {
          "output_type": "stream",
          "name": "stdout",
          "text": [
            "Epoch 36, Loss: 0.0025956352215467226\n"
          ]
        },
        {
          "output_type": "stream",
          "name": "stderr",
          "text": [
            "100%|██████████| 81/81 [07:58<00:00,  5.91s/it]\n"
          ]
        },
        {
          "output_type": "stream",
          "name": "stdout",
          "text": [
            "Epoch 37, Loss: 0.0026018282637161054\n"
          ]
        },
        {
          "output_type": "stream",
          "name": "stderr",
          "text": [
            "100%|██████████| 81/81 [08:00<00:00,  5.93s/it]\n"
          ]
        },
        {
          "output_type": "stream",
          "name": "stdout",
          "text": [
            "Epoch 38, Loss: 0.0025701961123648985\n"
          ]
        },
        {
          "output_type": "stream",
          "name": "stderr",
          "text": [
            "100%|██████████| 81/81 [08:01<00:00,  5.94s/it]\n"
          ]
        },
        {
          "output_type": "stream",
          "name": "stdout",
          "text": [
            "Epoch 39, Loss: 0.002591545479429633\n"
          ]
        },
        {
          "output_type": "stream",
          "name": "stderr",
          "text": [
            "100%|██████████| 81/81 [08:00<00:00,  5.93s/it]\n"
          ]
        },
        {
          "output_type": "stream",
          "name": "stdout",
          "text": [
            "Epoch 40, Loss: 0.002552835187403324\n"
          ]
        },
        {
          "output_type": "stream",
          "name": "stderr",
          "text": [
            "100%|██████████| 81/81 [08:00<00:00,  5.93s/it]\n"
          ]
        },
        {
          "output_type": "stream",
          "name": "stdout",
          "text": [
            "Epoch 41, Loss: 0.0025492845085897933\n"
          ]
        },
        {
          "output_type": "stream",
          "name": "stderr",
          "text": [
            "100%|██████████| 81/81 [08:00<00:00,  5.94s/it]\n"
          ]
        },
        {
          "output_type": "stream",
          "name": "stdout",
          "text": [
            "Epoch 42, Loss: 0.0025448029182483386\n"
          ]
        },
        {
          "output_type": "stream",
          "name": "stderr",
          "text": [
            "100%|██████████| 81/81 [08:00<00:00,  5.93s/it]\n"
          ]
        },
        {
          "output_type": "stream",
          "name": "stdout",
          "text": [
            "Epoch 43, Loss: 0.002554137749815889\n"
          ]
        },
        {
          "output_type": "stream",
          "name": "stderr",
          "text": [
            "100%|██████████| 81/81 [07:59<00:00,  5.92s/it]\n"
          ]
        },
        {
          "output_type": "stream",
          "name": "stdout",
          "text": [
            "Epoch 44, Loss: 0.0025322472972703386\n"
          ]
        },
        {
          "output_type": "stream",
          "name": "stderr",
          "text": [
            "100%|██████████| 81/81 [08:01<00:00,  5.94s/it]\n"
          ]
        },
        {
          "output_type": "stream",
          "name": "stdout",
          "text": [
            "Epoch 45, Loss: 0.002557977009277193\n"
          ]
        },
        {
          "output_type": "stream",
          "name": "stderr",
          "text": [
            "100%|██████████| 81/81 [08:00<00:00,  5.93s/it]\n"
          ]
        },
        {
          "output_type": "stream",
          "name": "stdout",
          "text": [
            "Epoch 46, Loss: 0.0025497905487470605\n"
          ]
        },
        {
          "output_type": "stream",
          "name": "stderr",
          "text": [
            "100%|██████████| 81/81 [07:59<00:00,  5.93s/it]\n"
          ]
        },
        {
          "output_type": "stream",
          "name": "stdout",
          "text": [
            "Epoch 47, Loss: 0.0025401677358550608\n"
          ]
        },
        {
          "output_type": "stream",
          "name": "stderr",
          "text": [
            "100%|██████████| 81/81 [07:59<00:00,  5.92s/it]\n"
          ]
        },
        {
          "output_type": "stream",
          "name": "stdout",
          "text": [
            "Epoch 48, Loss: 0.002572973419762688\n"
          ]
        },
        {
          "output_type": "stream",
          "name": "stderr",
          "text": [
            "100%|██████████| 81/81 [08:00<00:00,  5.93s/it]\n"
          ]
        },
        {
          "output_type": "stream",
          "name": "stdout",
          "text": [
            "Epoch 49, Loss: 0.0025522692551560424\n"
          ]
        },
        {
          "output_type": "stream",
          "name": "stderr",
          "text": [
            "100%|██████████| 81/81 [08:00<00:00,  5.94s/it]"
          ]
        },
        {
          "output_type": "stream",
          "name": "stdout",
          "text": [
            "Epoch 50, Loss: 0.002534302483301288\n"
          ]
        },
        {
          "output_type": "stream",
          "name": "stderr",
          "text": [
            "\n"
          ]
        }
      ]
    },
    {
      "cell_type": "code",
      "source": [
        "plt.plot(losses)\n",
        "plt.xlabel('Epoch')\n",
        "plt.ylabel('Loss')\n",
        "plt.title('Training Loss')\n",
        "plt.show()"
      ],
      "metadata": {
        "id": "gnXw3pPqIDmy",
        "colab": {
          "base_uri": "https://localhost:8080/",
          "height": 472
        },
        "outputId": "acc001a1-6516-4713-c421-307c80eb7594"
      },
      "execution_count": 10,
      "outputs": [
        {
          "output_type": "display_data",
          "data": {
            "text/plain": [
              "<Figure size 640x480 with 1 Axes>"
            ],
            "image/png": "[encoded data removed]"
          },
          "metadata": {}
        }
      ]
    },
    {
      "cell_type": "code",
      "source": [
        "save_path = '/content/drive/MyDrive/model_reconstruction.pth'\n",
        "torch.save(model.state_dict(), save_path)"
      ],
      "metadata": {
        "id": "pAmlodRvJNJv"
      },
      "execution_count": 11,
      "outputs": []
    }
  ]
}