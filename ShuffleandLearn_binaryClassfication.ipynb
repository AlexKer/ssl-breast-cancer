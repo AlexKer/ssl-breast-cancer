{
  "nbformat": 4,
  "nbformat_minor": 0,
  "metadata": {
    "colab": {
      "provenance": [],
      "machine_shape": "hm",
      "gpuType": "A100"
    },
    "kernelspec": {
      "name": "python3",
      "display_name": "Python 3"
    },
    "language_info": {
      "name": "python"
    },
    "accelerator": "GPU"
  },
  "cells": [
    {
      "cell_type": "code",
      "source": [
        "!pip install pydicom\n",
        "!pip install git+https://github.com/facebookresearch/fvcore.git\n",
        "!pip install torchsummary"
      ],
      "metadata": {
        "colab": {
          "base_uri": "https://localhost:8080/"
        },
        "id": "uW4luaHH6ak1",
        "outputId": "ca4e6f85-bbee-439e-ab31-82d436bb804c"
      },
      "execution_count": null,
      "outputs": [
        {
          "output_type": "stream",
          "name": "stdout",
          "text": [
            "Requirement already satisfied: pydicom in /usr/local/lib/python3.10/dist-packages (3.0.1)\n",
            "Collecting git+https://github.com/facebookresearch/fvcore.git\n",
            "  Cloning https://github.com/facebookresearch/fvcore.git to /tmp/pip-req-build-eccc0vzc\n",
            "  Running command git clone --filter=blob:none --quiet https://github.com/facebookresearch/fvcore.git /tmp/pip-req-build-eccc0vzc\n",
            "  Resolved https://github.com/facebookresearch/fvcore.git to commit d051804c97dfd7c8f349996fefd8644fe2955bc2\n",
            "  Preparing metadata (setup.py) ... \u001b[?25l\u001b[?25hdone\n",
            "Requirement already satisfied: numpy in /usr/local/lib/python3.10/dist-packages (from fvcore==0.1.6) (1.26.4)\n",
            "Requirement already satisfied: yacs>=0.1.6 in /usr/local/lib/python3.10/dist-packages (from fvcore==0.1.6) (0.1.8)\n",
            "Requirement already satisfied: pyyaml>=5.1 in /usr/local/lib/python3.10/dist-packages (from fvcore==0.1.6) (6.0.2)\n",
            "Requirement already satisfied: tqdm in /usr/local/lib/python3.10/dist-packages (from fvcore==0.1.6) (4.66.5)\n",
            "Requirement already satisfied: termcolor>=1.1 in /usr/local/lib/python3.10/dist-packages (from fvcore==0.1.6) (2.5.0)\n",
            "Requirement already satisfied: Pillow in /usr/local/lib/python3.10/dist-packages (from fvcore==0.1.6) (10.4.0)\n",
            "Requirement already satisfied: tabulate in /usr/local/lib/python3.10/dist-packages (from fvcore==0.1.6) (0.9.0)\n",
            "Requirement already satisfied: iopath>=0.1.7 in /usr/local/lib/python3.10/dist-packages (from fvcore==0.1.6) (0.1.10)\n",
            "Requirement already satisfied: typing-extensions in /usr/local/lib/python3.10/dist-packages (from iopath>=0.1.7->fvcore==0.1.6) (4.12.2)\n",
            "Requirement already satisfied: portalocker in /usr/local/lib/python3.10/dist-packages (from iopath>=0.1.7->fvcore==0.1.6) (2.10.1)\n",
            "Requirement already satisfied: torchsummary in /usr/local/lib/python3.10/dist-packages (1.5.1)\n"
          ]
        }
      ]
    },
    {
      "cell_type": "code",
      "execution_count": null,
      "metadata": {
        "id": "ODfHYGt3zozD"
      },
      "outputs": [],
      "source": [
        "import os\n",
        "import torch\n",
        "import torch.nn as nn\n",
        "import torchvision.transforms.functional as F\n",
        "import logging\n",
        "import warnings\n",
        "import random\n",
        "import pydicom\n",
        "import numpy as np\n",
        "import matplotlib.pyplot as plt\n",
        "import torch.optim as optim\n",
        "from torch.utils.data import DataLoader\n",
        "from torch.utils.data import Dataset\n",
        "from torchsummary import summary\n",
        "from tqdm import tqdm"
      ]
    },
    {
      "cell_type": "code",
      "source": [
        "pydicom_logger = logging.getLogger(\"pydicom\")\n",
        "pydicom_logger.setLevel(logging.ERROR)\n",
        "warnings.filterwarnings(\"ignore\", category=UserWarning, module=\"pydicom\")"
      ],
      "metadata": {
        "id": "wqIuq4WHltgT"
      },
      "execution_count": null,
      "outputs": []
    },
    {
      "cell_type": "code",
      "source": [
        "device = torch.device(\"cuda\" if torch.cuda.is_available() else \"cpu\")"
      ],
      "metadata": {
        "id": "Upx4gdwX6xO4"
      },
      "execution_count": null,
      "outputs": []
    },
    {
      "cell_type": "code",
      "source": [
        "class ISPY1Dataset(Dataset):\n",
        "    def __init__(self, root_dir, transform=None):\n",
        "        self.root_dir = root_dir\n",
        "        self.subjects = sorted(os.listdir(root_dir))\n",
        "        self.transform = transform\n",
        "\n",
        "    def __len__(self):\n",
        "        return len(self.subjects) * 4\n",
        "\n",
        "    def load_dicom_images(self, dicom_dir):\n",
        "        slices = [pydicom.dcmread(os.path.join(dicom_dir, f)) for f in os.listdir(dicom_dir)]\n",
        "        slices_array = np.stack([s.pixel_array for s in slices], axis=0)\n",
        "        return slices_array.astype(np.float32) / np.max(slices_array)\n",
        "\n",
        "    def __getitem__(self, idx):\n",
        "        subject_idx = idx // 4\n",
        "        sample_type = idx % 4\n",
        "\n",
        "        subject_path = os.path.join(self.root_dir, self.subjects[subject_idx])\n",
        "        time_stages = ['T1', 'T2', 'T3', 'T4']\n",
        "        correct_order = []\n",
        "\n",
        "        for stage in time_stages:\n",
        "            dicom_dir = os.path.join(subject_path, stage)\n",
        "            image_stack = self.load_dicom_images(dicom_dir)\n",
        "            resized_stack = np.stack([\n",
        "                F.resize(torch.tensor(slice)[None, ...], (256, 256)).squeeze(0)\n",
        "                for slice in image_stack\n",
        "            ], axis=0)\n",
        "            correct_order.append(resized_stack)\n",
        "\n",
        "        if sample_type == 0:\n",
        "            # Correct order sample\n",
        "            shuffled_order = correct_order\n",
        "            label = 1\n",
        "        else:\n",
        "            # Shuffled order sample\n",
        "            shuffled_order = correct_order.copy()\n",
        "            random.shuffle(shuffled_order)\n",
        "            label = 0\n",
        "\n",
        "        sample = np.stack(shuffled_order, axis=0)\n",
        "        if self.transform:\n",
        "            sample = self.transform(sample)\n",
        "\n",
        "        return torch.tensor(sample, dtype=torch.float32), torch.tensor(label, dtype=torch.long)"
      ],
      "metadata": {
        "id": "ZKBLK1JX7P7u"
      },
      "execution_count": null,
      "outputs": []
    },
    {
      "cell_type": "code",
      "source": [
        "dataset = ISPY1Dataset(root_dir='/content/drive/MyDrive/ISPY1_sub')\n",
        "dataloader = DataLoader(dataset, batch_size=4, shuffle=True, num_workers=0)"
      ],
      "metadata": {
        "collapsed": true,
        "id": "Y4ejLrCH7qnU"
      },
      "execution_count": null,
      "outputs": []
    },
    {
      "cell_type": "code",
      "source": [
        "model = torch.hub.load('facebookresearch/pytorchvideo', 'slow_r50', pretrained=False)\n",
        "model.blocks[0].conv = nn.Conv3d(\n",
        "    in_channels=4,\n",
        "    out_channels=model.blocks[0].conv.out_channels,\n",
        "    kernel_size=model.blocks[0].conv.kernel_size,\n",
        "    stride=model.blocks[0].conv.stride,\n",
        "    padding=model.blocks[0].conv.padding,\n",
        "    bias=model.blocks[0].conv.bias is not None\n",
        ")\n",
        "model.blocks[5].proj = nn.Sequential(\n",
        "    nn.Linear(in_features=2048, out_features=512, bias=True),\n",
        "    nn.ReLU(),\n",
        "    nn.Linear(in_features=512, out_features=128, bias=True),\n",
        "    nn.ReLU(),\n",
        "    nn.Linear(in_features=128, out_features=2, bias=True)  # Output layer\n",
        ")\n",
        "model = model.to(device)\n",
        "summary(model, input_size=(4, 60, 256, 256), device=str(device))"
      ],
      "metadata": {
        "colab": {
          "base_uri": "https://localhost:8080/"
        },
        "id": "7GnNyPfFdUjD",
        "outputId": "338c535b-4f47-4ded-c838-85b6c027e4e7"
      },
      "execution_count": null,
      "outputs": [
        {
          "output_type": "stream",
          "name": "stderr",
          "text": [
            "Using cache found in /root/.cache/torch/hub/facebookresearch_pytorchvideo_main\n"
          ]
        },
        {
          "output_type": "stream",
          "name": "stdout",
          "text": [
            "----------------------------------------------------------------\n",
            "        Layer (type)               Output Shape         Param #\n",
            "================================================================\n",
            "            Conv3d-1     [-1, 64, 60, 128, 128]          12,544\n",
            "       BatchNorm3d-2     [-1, 64, 60, 128, 128]             128\n",
            "              ReLU-3     [-1, 64, 60, 128, 128]               0\n",
            "         MaxPool3d-4       [-1, 64, 60, 64, 64]               0\n",
            "   ResNetBasicStem-5       [-1, 64, 60, 64, 64]               0\n",
            "            Conv3d-6      [-1, 256, 60, 64, 64]          16,384\n",
            "       BatchNorm3d-7      [-1, 256, 60, 64, 64]             512\n",
            "            Conv3d-8       [-1, 64, 60, 64, 64]           4,096\n",
            "       BatchNorm3d-9       [-1, 64, 60, 64, 64]             128\n",
            "             ReLU-10       [-1, 64, 60, 64, 64]               0\n",
            "           Conv3d-11       [-1, 64, 60, 64, 64]          36,864\n",
            "      BatchNorm3d-12       [-1, 64, 60, 64, 64]             128\n",
            "             ReLU-13       [-1, 64, 60, 64, 64]               0\n",
            "           Conv3d-14      [-1, 256, 60, 64, 64]          16,384\n",
            "      BatchNorm3d-15      [-1, 256, 60, 64, 64]             512\n",
            "  BottleneckBlock-16      [-1, 256, 60, 64, 64]               0\n",
            "             ReLU-17      [-1, 256, 60, 64, 64]               0\n",
            "         ResBlock-18      [-1, 256, 60, 64, 64]               0\n",
            "           Conv3d-19       [-1, 64, 60, 64, 64]          16,384\n",
            "      BatchNorm3d-20       [-1, 64, 60, 64, 64]             128\n",
            "             ReLU-21       [-1, 64, 60, 64, 64]               0\n",
            "           Conv3d-22       [-1, 64, 60, 64, 64]          36,864\n",
            "      BatchNorm3d-23       [-1, 64, 60, 64, 64]             128\n",
            "             ReLU-24       [-1, 64, 60, 64, 64]               0\n",
            "           Conv3d-25      [-1, 256, 60, 64, 64]          16,384\n",
            "      BatchNorm3d-26      [-1, 256, 60, 64, 64]             512\n",
            "  BottleneckBlock-27      [-1, 256, 60, 64, 64]               0\n",
            "             ReLU-28      [-1, 256, 60, 64, 64]               0\n",
            "         ResBlock-29      [-1, 256, 60, 64, 64]               0\n",
            "           Conv3d-30       [-1, 64, 60, 64, 64]          16,384\n",
            "      BatchNorm3d-31       [-1, 64, 60, 64, 64]             128\n",
            "             ReLU-32       [-1, 64, 60, 64, 64]               0\n",
            "           Conv3d-33       [-1, 64, 60, 64, 64]          36,864\n",
            "      BatchNorm3d-34       [-1, 64, 60, 64, 64]             128\n",
            "             ReLU-35       [-1, 64, 60, 64, 64]               0\n",
            "           Conv3d-36      [-1, 256, 60, 64, 64]          16,384\n",
            "      BatchNorm3d-37      [-1, 256, 60, 64, 64]             512\n",
            "  BottleneckBlock-38      [-1, 256, 60, 64, 64]               0\n",
            "             ReLU-39      [-1, 256, 60, 64, 64]               0\n",
            "         ResBlock-40      [-1, 256, 60, 64, 64]               0\n",
            "         ResStage-41      [-1, 256, 60, 64, 64]               0\n",
            "           Conv3d-42      [-1, 512, 60, 32, 32]         131,072\n",
            "      BatchNorm3d-43      [-1, 512, 60, 32, 32]           1,024\n",
            "           Conv3d-44      [-1, 128, 60, 64, 64]          32,768\n",
            "      BatchNorm3d-45      [-1, 128, 60, 64, 64]             256\n",
            "             ReLU-46      [-1, 128, 60, 64, 64]               0\n",
            "           Conv3d-47      [-1, 128, 60, 32, 32]         147,456\n",
            "      BatchNorm3d-48      [-1, 128, 60, 32, 32]             256\n",
            "             ReLU-49      [-1, 128, 60, 32, 32]               0\n",
            "           Conv3d-50      [-1, 512, 60, 32, 32]          65,536\n",
            "      BatchNorm3d-51      [-1, 512, 60, 32, 32]           1,024\n",
            "  BottleneckBlock-52      [-1, 512, 60, 32, 32]               0\n",
            "             ReLU-53      [-1, 512, 60, 32, 32]               0\n",
            "         ResBlock-54      [-1, 512, 60, 32, 32]               0\n",
            "           Conv3d-55      [-1, 128, 60, 32, 32]          65,536\n",
            "      BatchNorm3d-56      [-1, 128, 60, 32, 32]             256\n",
            "             ReLU-57      [-1, 128, 60, 32, 32]               0\n",
            "           Conv3d-58      [-1, 128, 60, 32, 32]         147,456\n",
            "      BatchNorm3d-59      [-1, 128, 60, 32, 32]             256\n",
            "             ReLU-60      [-1, 128, 60, 32, 32]               0\n",
            "           Conv3d-61      [-1, 512, 60, 32, 32]          65,536\n",
            "      BatchNorm3d-62      [-1, 512, 60, 32, 32]           1,024\n",
            "  BottleneckBlock-63      [-1, 512, 60, 32, 32]               0\n",
            "             ReLU-64      [-1, 512, 60, 32, 32]               0\n",
            "         ResBlock-65      [-1, 512, 60, 32, 32]               0\n",
            "           Conv3d-66      [-1, 128, 60, 32, 32]          65,536\n",
            "      BatchNorm3d-67      [-1, 128, 60, 32, 32]             256\n",
            "             ReLU-68      [-1, 128, 60, 32, 32]               0\n",
            "           Conv3d-69      [-1, 128, 60, 32, 32]         147,456\n",
            "      BatchNorm3d-70      [-1, 128, 60, 32, 32]             256\n",
            "             ReLU-71      [-1, 128, 60, 32, 32]               0\n",
            "           Conv3d-72      [-1, 512, 60, 32, 32]          65,536\n",
            "      BatchNorm3d-73      [-1, 512, 60, 32, 32]           1,024\n",
            "  BottleneckBlock-74      [-1, 512, 60, 32, 32]               0\n",
            "             ReLU-75      [-1, 512, 60, 32, 32]               0\n",
            "         ResBlock-76      [-1, 512, 60, 32, 32]               0\n",
            "           Conv3d-77      [-1, 128, 60, 32, 32]          65,536\n",
            "      BatchNorm3d-78      [-1, 128, 60, 32, 32]             256\n",
            "             ReLU-79      [-1, 128, 60, 32, 32]               0\n",
            "           Conv3d-80      [-1, 128, 60, 32, 32]         147,456\n",
            "      BatchNorm3d-81      [-1, 128, 60, 32, 32]             256\n",
            "             ReLU-82      [-1, 128, 60, 32, 32]               0\n",
            "           Conv3d-83      [-1, 512, 60, 32, 32]          65,536\n",
            "      BatchNorm3d-84      [-1, 512, 60, 32, 32]           1,024\n",
            "  BottleneckBlock-85      [-1, 512, 60, 32, 32]               0\n",
            "             ReLU-86      [-1, 512, 60, 32, 32]               0\n",
            "         ResBlock-87      [-1, 512, 60, 32, 32]               0\n",
            "         ResStage-88      [-1, 512, 60, 32, 32]               0\n",
            "           Conv3d-89     [-1, 1024, 60, 16, 16]         524,288\n",
            "      BatchNorm3d-90     [-1, 1024, 60, 16, 16]           2,048\n",
            "           Conv3d-91      [-1, 256, 60, 32, 32]         393,216\n",
            "      BatchNorm3d-92      [-1, 256, 60, 32, 32]             512\n",
            "             ReLU-93      [-1, 256, 60, 32, 32]               0\n",
            "           Conv3d-94      [-1, 256, 60, 16, 16]         589,824\n",
            "      BatchNorm3d-95      [-1, 256, 60, 16, 16]             512\n",
            "             ReLU-96      [-1, 256, 60, 16, 16]               0\n",
            "           Conv3d-97     [-1, 1024, 60, 16, 16]         262,144\n",
            "      BatchNorm3d-98     [-1, 1024, 60, 16, 16]           2,048\n",
            "  BottleneckBlock-99     [-1, 1024, 60, 16, 16]               0\n",
            "            ReLU-100     [-1, 1024, 60, 16, 16]               0\n",
            "        ResBlock-101     [-1, 1024, 60, 16, 16]               0\n",
            "          Conv3d-102      [-1, 256, 60, 16, 16]         786,432\n",
            "     BatchNorm3d-103      [-1, 256, 60, 16, 16]             512\n",
            "            ReLU-104      [-1, 256, 60, 16, 16]               0\n",
            "          Conv3d-105      [-1, 256, 60, 16, 16]         589,824\n",
            "     BatchNorm3d-106      [-1, 256, 60, 16, 16]             512\n",
            "            ReLU-107      [-1, 256, 60, 16, 16]               0\n",
            "          Conv3d-108     [-1, 1024, 60, 16, 16]         262,144\n",
            "     BatchNorm3d-109     [-1, 1024, 60, 16, 16]           2,048\n",
            " BottleneckBlock-110     [-1, 1024, 60, 16, 16]               0\n",
            "            ReLU-111     [-1, 1024, 60, 16, 16]               0\n",
            "        ResBlock-112     [-1, 1024, 60, 16, 16]               0\n",
            "          Conv3d-113      [-1, 256, 60, 16, 16]         786,432\n",
            "     BatchNorm3d-114      [-1, 256, 60, 16, 16]             512\n",
            "            ReLU-115      [-1, 256, 60, 16, 16]               0\n",
            "          Conv3d-116      [-1, 256, 60, 16, 16]         589,824\n",
            "     BatchNorm3d-117      [-1, 256, 60, 16, 16]             512\n",
            "            ReLU-118      [-1, 256, 60, 16, 16]               0\n",
            "          Conv3d-119     [-1, 1024, 60, 16, 16]         262,144\n",
            "     BatchNorm3d-120     [-1, 1024, 60, 16, 16]           2,048\n",
            " BottleneckBlock-121     [-1, 1024, 60, 16, 16]               0\n",
            "            ReLU-122     [-1, 1024, 60, 16, 16]               0\n",
            "        ResBlock-123     [-1, 1024, 60, 16, 16]               0\n",
            "          Conv3d-124      [-1, 256, 60, 16, 16]         786,432\n",
            "     BatchNorm3d-125      [-1, 256, 60, 16, 16]             512\n",
            "            ReLU-126      [-1, 256, 60, 16, 16]               0\n",
            "          Conv3d-127      [-1, 256, 60, 16, 16]         589,824\n",
            "     BatchNorm3d-128      [-1, 256, 60, 16, 16]             512\n",
            "            ReLU-129      [-1, 256, 60, 16, 16]               0\n",
            "          Conv3d-130     [-1, 1024, 60, 16, 16]         262,144\n",
            "     BatchNorm3d-131     [-1, 1024, 60, 16, 16]           2,048\n",
            " BottleneckBlock-132     [-1, 1024, 60, 16, 16]               0\n",
            "            ReLU-133     [-1, 1024, 60, 16, 16]               0\n",
            "        ResBlock-134     [-1, 1024, 60, 16, 16]               0\n",
            "          Conv3d-135      [-1, 256, 60, 16, 16]         786,432\n",
            "     BatchNorm3d-136      [-1, 256, 60, 16, 16]             512\n",
            "            ReLU-137      [-1, 256, 60, 16, 16]               0\n",
            "          Conv3d-138      [-1, 256, 60, 16, 16]         589,824\n",
            "     BatchNorm3d-139      [-1, 256, 60, 16, 16]             512\n",
            "            ReLU-140      [-1, 256, 60, 16, 16]               0\n",
            "          Conv3d-141     [-1, 1024, 60, 16, 16]         262,144\n",
            "     BatchNorm3d-142     [-1, 1024, 60, 16, 16]           2,048\n",
            " BottleneckBlock-143     [-1, 1024, 60, 16, 16]               0\n",
            "            ReLU-144     [-1, 1024, 60, 16, 16]               0\n",
            "        ResBlock-145     [-1, 1024, 60, 16, 16]               0\n",
            "          Conv3d-146      [-1, 256, 60, 16, 16]         786,432\n",
            "     BatchNorm3d-147      [-1, 256, 60, 16, 16]             512\n",
            "            ReLU-148      [-1, 256, 60, 16, 16]               0\n",
            "          Conv3d-149      [-1, 256, 60, 16, 16]         589,824\n",
            "     BatchNorm3d-150      [-1, 256, 60, 16, 16]             512\n",
            "            ReLU-151      [-1, 256, 60, 16, 16]               0\n",
            "          Conv3d-152     [-1, 1024, 60, 16, 16]         262,144\n",
            "     BatchNorm3d-153     [-1, 1024, 60, 16, 16]           2,048\n",
            " BottleneckBlock-154     [-1, 1024, 60, 16, 16]               0\n",
            "            ReLU-155     [-1, 1024, 60, 16, 16]               0\n",
            "        ResBlock-156     [-1, 1024, 60, 16, 16]               0\n",
            "        ResStage-157     [-1, 1024, 60, 16, 16]               0\n",
            "          Conv3d-158       [-1, 2048, 60, 8, 8]       2,097,152\n",
            "     BatchNorm3d-159       [-1, 2048, 60, 8, 8]           4,096\n",
            "          Conv3d-160      [-1, 512, 60, 16, 16]       1,572,864\n",
            "     BatchNorm3d-161      [-1, 512, 60, 16, 16]           1,024\n",
            "            ReLU-162      [-1, 512, 60, 16, 16]               0\n",
            "          Conv3d-163        [-1, 512, 60, 8, 8]       2,359,296\n",
            "     BatchNorm3d-164        [-1, 512, 60, 8, 8]           1,024\n",
            "            ReLU-165        [-1, 512, 60, 8, 8]               0\n",
            "          Conv3d-166       [-1, 2048, 60, 8, 8]       1,048,576\n",
            "     BatchNorm3d-167       [-1, 2048, 60, 8, 8]           4,096\n",
            " BottleneckBlock-168       [-1, 2048, 60, 8, 8]               0\n",
            "            ReLU-169       [-1, 2048, 60, 8, 8]               0\n",
            "        ResBlock-170       [-1, 2048, 60, 8, 8]               0\n",
            "          Conv3d-171        [-1, 512, 60, 8, 8]       3,145,728\n",
            "     BatchNorm3d-172        [-1, 512, 60, 8, 8]           1,024\n",
            "            ReLU-173        [-1, 512, 60, 8, 8]               0\n",
            "          Conv3d-174        [-1, 512, 60, 8, 8]       2,359,296\n",
            "     BatchNorm3d-175        [-1, 512, 60, 8, 8]           1,024\n",
            "            ReLU-176        [-1, 512, 60, 8, 8]               0\n",
            "          Conv3d-177       [-1, 2048, 60, 8, 8]       1,048,576\n",
            "     BatchNorm3d-178       [-1, 2048, 60, 8, 8]           4,096\n",
            " BottleneckBlock-179       [-1, 2048, 60, 8, 8]               0\n",
            "            ReLU-180       [-1, 2048, 60, 8, 8]               0\n",
            "        ResBlock-181       [-1, 2048, 60, 8, 8]               0\n",
            "          Conv3d-182        [-1, 512, 60, 8, 8]       3,145,728\n",
            "     BatchNorm3d-183        [-1, 512, 60, 8, 8]           1,024\n",
            "            ReLU-184        [-1, 512, 60, 8, 8]               0\n",
            "          Conv3d-185        [-1, 512, 60, 8, 8]       2,359,296\n",
            "     BatchNorm3d-186        [-1, 512, 60, 8, 8]           1,024\n",
            "            ReLU-187        [-1, 512, 60, 8, 8]               0\n",
            "          Conv3d-188       [-1, 2048, 60, 8, 8]       1,048,576\n",
            "     BatchNorm3d-189       [-1, 2048, 60, 8, 8]           4,096\n",
            " BottleneckBlock-190       [-1, 2048, 60, 8, 8]               0\n",
            "            ReLU-191       [-1, 2048, 60, 8, 8]               0\n",
            "        ResBlock-192       [-1, 2048, 60, 8, 8]               0\n",
            "        ResStage-193       [-1, 2048, 60, 8, 8]               0\n",
            "       AvgPool3d-194       [-1, 2048, 53, 2, 2]               0\n",
            "         Dropout-195       [-1, 2048, 53, 2, 2]               0\n",
            "          Linear-196        [-1, 53, 2, 2, 512]       1,049,088\n",
            "            ReLU-197        [-1, 53, 2, 2, 512]               0\n",
            "          Linear-198        [-1, 53, 2, 2, 128]          65,664\n",
            "            ReLU-199        [-1, 53, 2, 2, 128]               0\n",
            "          Linear-200          [-1, 53, 2, 2, 2]             258\n",
            "AdaptiveAvgPool3d-201           [-1, 2, 1, 1, 1]               0\n",
            " ResNetBasicHead-202                    [-1, 2]               0\n",
            "================================================================\n",
            "Total params: 32,752,642\n",
            "Trainable params: 32,752,642\n",
            "Non-trainable params: 0\n",
            "----------------------------------------------------------------\n",
            "Input size (MB): 60.00\n",
            "Forward/backward pass size (MB): 26783.70\n",
            "Params size (MB): 124.94\n",
            "Estimated Total Size (MB): 26968.64\n",
            "----------------------------------------------------------------\n"
          ]
        }
      ]
    },
    {
      "cell_type": "code",
      "source": [
        "criterion = nn.CrossEntropyLoss()\n",
        "optimizer = optim.Adam(model.parameters(), lr=1e-4)\n",
        "\n",
        "num_epochs = 50\n",
        "losses = []\n",
        "for epoch in range(num_epochs):\n",
        "    model.train()\n",
        "    running_loss = 0.0\n",
        "    for inputs, labels in tqdm(dataloader):\n",
        "        inputs, labels = inputs.to(device), labels.to(device)\n",
        "        optimizer.zero_grad()\n",
        "        outputs = model(inputs)\n",
        "        loss = criterion(outputs, labels)\n",
        "        loss.backward()\n",
        "        optimizer.step()\n",
        "        running_loss += loss.item()\n",
        "\n",
        "    print(f'Epoch {epoch+1}, Loss: {running_loss/len(dataloader)}')\n",
        "    losses.append(running_loss/len(dataloader))"
      ],
      "metadata": {
        "colab": {
          "base_uri": "https://localhost:8080/"
        },
        "id": "b8DJDYXN-1sC",
        "outputId": "f9921041-4df5-4063-a503-11829d7376a2"
      },
      "execution_count": 8,
      "outputs": [
        {
          "metadata": {
            "tags": null
          },
          "name": "stderr",
          "output_type": "stream",
          "text": [
            "100%|██████████| 81/81 [07:48<00:00,  5.78s/it]\n"
          ]
        },
        {
          "metadata": {
            "tags": null
          },
          "name": "stdout",
          "output_type": "stream",
          "text": [
            "Epoch 1, Loss: 0.5783255825072159\n"
          ]
        },
        {
          "metadata": {
            "tags": null
          },
          "name": "stderr",
          "output_type": "stream",
          "text": [
            "100%|██████████| 81/81 [07:45<00:00,  5.75s/it]\n"
          ]
        },
        {
          "metadata": {
            "tags": null
          },
          "name": "stdout",
          "output_type": "stream",
          "text": [
            "Epoch 2, Loss: 0.5674501206771827\n"
          ]
        },
        {
          "metadata": {
            "tags": null
          },
          "name": "stderr",
          "output_type": "stream",
          "text": [
            "100%|██████████| 81/81 [07:45<00:00,  5.75s/it]\n"
          ]
        },
        {
          "metadata": {
            "tags": null
          },
          "name": "stdout",
          "output_type": "stream",
          "text": [
            "Epoch 3, Loss: 0.5668672623089802\n"
          ]
        },
        {
          "metadata": {
            "tags": null
          },
          "name": "stderr",
          "output_type": "stream",
          "text": [
            "100%|██████████| 81/81 [07:48<00:00,  5.78s/it]\n"
          ]
        },
        {
          "metadata": {
            "tags": null
          },
          "name": "stdout",
          "output_type": "stream",
          "text": [
            "Epoch 4, Loss: 0.5606213423572941\n"
          ]
        },
        {
          "metadata": {
            "tags": null
          },
          "name": "stderr",
          "output_type": "stream",
          "text": [
            "100%|██████████| 81/81 [07:46<00:00,  5.76s/it]\n"
          ]
        },
        {
          "metadata": {
            "tags": null
          },
          "name": "stdout",
          "output_type": "stream",
          "text": [
            "Epoch 5, Loss: 0.5505164758658704\n"
          ]
        },
        {
          "metadata": {
            "tags": null
          },
          "name": "stderr",
          "output_type": "stream",
          "text": [
            "100%|██████████| 81/81 [07:46<00:00,  5.76s/it]\n"
          ]
        },
        {
          "metadata": {
            "tags": null
          },
          "name": "stdout",
          "output_type": "stream",
          "text": [
            "Epoch 6, Loss: 0.5539119263857971\n"
          ]
        },
        {
          "metadata": {
            "tags": null
          },
          "name": "stderr",
          "output_type": "stream",
          "text": [
            "100%|██████████| 81/81 [07:48<00:00,  5.78s/it]\n"
          ]
        },
        {
          "metadata": {
            "tags": null
          },
          "name": "stdout",
          "output_type": "stream",
          "text": [
            "Epoch 7, Loss: 0.5450946543319726\n"
          ]
        },
        {
          "metadata": {
            "tags": null
          },
          "name": "stderr",
          "output_type": "stream",
          "text": [
            "100%|██████████| 81/81 [07:45<00:00,  5.75s/it]\n"
          ]
        },
        {
          "metadata": {
            "tags": null
          },
          "name": "stdout",
          "output_type": "stream",
          "text": [
            "Epoch 8, Loss: 0.545534755344744\n"
          ]
        },
        {
          "metadata": {
            "tags": null
          },
          "name": "stderr",
          "output_type": "stream",
          "text": [
            "100%|██████████| 81/81 [07:48<00:00,  5.79s/it]\n"
          ]
        },
        {
          "metadata": {
            "tags": null
          },
          "name": "stdout",
          "output_type": "stream",
          "text": [
            "Epoch 9, Loss: 0.543512354110494\n"
          ]
        },
        {
          "metadata": {
            "tags": null
          },
          "name": "stderr",
          "output_type": "stream",
          "text": [
            "100%|██████████| 81/81 [07:42<00:00,  5.71s/it]\n"
          ]
        },
        {
          "metadata": {
            "tags": null
          },
          "name": "stdout",
          "output_type": "stream",
          "text": [
            "Epoch 10, Loss: 0.5316326406634884\n"
          ]
        },
        {
          "metadata": {
            "tags": null
          },
          "name": "stderr",
          "output_type": "stream",
          "text": [
            "100%|██████████| 81/81 [07:44<00:00,  5.74s/it]\n"
          ]
        },
        {
          "metadata": {
            "tags": null
          },
          "name": "stdout",
          "output_type": "stream",
          "text": [
            "Epoch 11, Loss: 0.5413307909980233\n"
          ]
        },
        {
          "metadata": {
            "tags": null
          },
          "name": "stderr",
          "output_type": "stream",
          "text": [
            "100%|██████████| 81/81 [07:42<00:00,  5.70s/it]\n"
          ]
        },
        {
          "metadata": {
            "tags": null
          },
          "name": "stdout",
          "output_type": "stream",
          "text": [
            "Epoch 12, Loss: 0.541550561417768\n"
          ]
        },
        {
          "metadata": {
            "tags": null
          },
          "name": "stderr",
          "output_type": "stream",
          "text": [
            "100%|██████████| 81/81 [07:45<00:00,  5.75s/it]\n"
          ]
        },
        {
          "metadata": {
            "tags": null
          },
          "name": "stdout",
          "output_type": "stream",
          "text": [
            "Epoch 13, Loss: 0.5399465566432035\n"
          ]
        },
        {
          "metadata": {
            "tags": null
          },
          "name": "stderr",
          "output_type": "stream",
          "text": [
            "100%|██████████| 81/81 [07:42<00:00,  5.71s/it]\n"
          ]
        },
        {
          "metadata": {
            "tags": null
          },
          "name": "stdout",
          "output_type": "stream",
          "text": [
            "Epoch 14, Loss: 0.5355059539462314\n"
          ]
        },
        {
          "metadata": {
            "tags": null
          },
          "name": "stderr",
          "output_type": "stream",
          "text": [
            "100%|██████████| 81/81 [07:41<00:00,  5.70s/it]\n"
          ]
        },
        {
          "metadata": {
            "tags": null
          },
          "name": "stdout",
          "output_type": "stream",
          "text": [
            "Epoch 15, Loss: 0.5359849300649431\n"
          ]
        },
        {
          "metadata": {
            "tags": null
          },
          "name": "stderr",
          "output_type": "stream",
          "text": [
            "100%|██████████| 81/81 [07:46<00:00,  5.75s/it]\n"
          ]
        },
        {
          "metadata": {
            "tags": null
          },
          "name": "stdout",
          "output_type": "stream",
          "text": [
            "Epoch 16, Loss: 0.5316350655055341\n"
          ]
        },
        {
          "metadata": {
            "tags": null
          },
          "name": "stderr",
          "output_type": "stream",
          "text": [
            "100%|██████████| 81/81 [07:42<00:00,  5.70s/it]\n"
          ]
        },
        {
          "metadata": {
            "tags": null
          },
          "name": "stdout",
          "output_type": "stream",
          "text": [
            "Epoch 17, Loss: 0.5229096116475117\n"
          ]
        },
        {
          "metadata": {
            "tags": null
          },
          "name": "stderr",
          "output_type": "stream",
          "text": [
            "100%|██████████| 81/81 [07:43<00:00,  5.72s/it]\n"
          ]
        },
        {
          "metadata": {
            "tags": null
          },
          "name": "stdout",
          "output_type": "stream",
          "text": [
            "Epoch 18, Loss: 0.5380469810815505\n"
          ]
        },
        {
          "metadata": {
            "tags": null
          },
          "name": "stderr",
          "output_type": "stream",
          "text": [
            "100%|██████████| 81/81 [07:43<00:00,  5.72s/it]\n"
          ]
        },
        {
          "metadata": {
            "tags": null
          },
          "name": "stdout",
          "output_type": "stream",
          "text": [
            "Epoch 19, Loss: 0.5355972737809758\n"
          ]
        },
        {
          "metadata": {
            "tags": null
          },
          "name": "stderr",
          "output_type": "stream",
          "text": [
            "100%|██████████| 81/81 [07:42<00:00,  5.71s/it]\n"
          ]
        },
        {
          "metadata": {
            "tags": null
          },
          "name": "stdout",
          "output_type": "stream",
          "text": [
            "Epoch 20, Loss: 0.5228716959188013\n"
          ]
        },
        {
          "metadata": {
            "tags": null
          },
          "name": "stderr",
          "output_type": "stream",
          "text": [
            "100%|██████████| 81/81 [07:43<00:00,  5.73s/it]\n"
          ]
        },
        {
          "metadata": {
            "tags": null
          },
          "name": "stdout",
          "output_type": "stream",
          "text": [
            "Epoch 21, Loss: 0.5118329388859831\n"
          ]
        },
        {
          "metadata": {
            "tags": null
          },
          "name": "stderr",
          "output_type": "stream",
          "text": [
            "100%|██████████| 81/81 [07:44<00:00,  5.73s/it]\n"
          ]
        },
        {
          "metadata": {
            "tags": null
          },
          "name": "stdout",
          "output_type": "stream",
          "text": [
            "Epoch 22, Loss: 0.5245180832751003\n"
          ]
        },
        {
          "metadata": {
            "tags": null
          },
          "name": "stderr",
          "output_type": "stream",
          "text": [
            "100%|██████████| 81/81 [07:46<00:00,  5.76s/it]\n"
          ]
        },
        {
          "metadata": {
            "tags": null
          },
          "name": "stdout",
          "output_type": "stream",
          "text": [
            "Epoch 23, Loss: 0.49279875335869966\n"
          ]
        },
        {
          "metadata": {
            "tags": null
          },
          "name": "stderr",
          "output_type": "stream",
          "text": [
            "100%|██████████| 81/81 [07:42<00:00,  5.71s/it]\n"
          ]
        },
        {
          "metadata": {
            "tags": null
          },
          "name": "stdout",
          "output_type": "stream",
          "text": [
            "Epoch 24, Loss: 0.5056404101627844\n"
          ]
        },
        {
          "metadata": {
            "tags": null
          },
          "name": "stderr",
          "output_type": "stream",
          "text": [
            "100%|██████████| 81/81 [07:43<00:00,  5.72s/it]\n"
          ]
        },
        {
          "metadata": {
            "tags": null
          },
          "name": "stdout",
          "output_type": "stream",
          "text": [
            "Epoch 25, Loss: 0.4836784380453604\n"
          ]
        },
        {
          "metadata": {
            "tags": null
          },
          "name": "stderr",
          "output_type": "stream",
          "text": [
            "100%|██████████| 81/81 [07:42<00:00,  5.71s/it]\n"
          ]
        },
        {
          "metadata": {
            "tags": null
          },
          "name": "stdout",
          "output_type": "stream",
          "text": [
            "Epoch 26, Loss: 0.5105557141848552\n"
          ]
        },
        {
          "metadata": {
            "tags": null
          },
          "name": "stderr",
          "output_type": "stream",
          "text": [
            "100%|██████████| 81/81 [07:43<00:00,  5.72s/it]\n"
          ]
        },
        {
          "metadata": {
            "tags": null
          },
          "name": "stdout",
          "output_type": "stream",
          "text": [
            "Epoch 27, Loss: 0.455164733124368\n"
          ]
        },
        {
          "metadata": {
            "tags": null
          },
          "name": "stderr",
          "output_type": "stream",
          "text": [
            "100%|██████████| 81/81 [07:45<00:00,  5.75s/it]\n"
          ]
        },
        {
          "metadata": {
            "tags": null
          },
          "name": "stdout",
          "output_type": "stream",
          "text": [
            "Epoch 28, Loss: 0.44922091048440815\n"
          ]
        },
        {
          "metadata": {
            "tags": null
          },
          "name": "stderr",
          "output_type": "stream",
          "text": [
            "100%|██████████| 81/81 [07:45<00:00,  5.75s/it]\n"
          ]
        },
        {
          "metadata": {
            "tags": null
          },
          "name": "stdout",
          "output_type": "stream",
          "text": [
            "Epoch 29, Loss: 0.4489840418100357\n"
          ]
        },
        {
          "metadata": {
            "tags": null
          },
          "name": "stderr",
          "output_type": "stream",
          "text": [
            "100%|██████████| 81/81 [07:41<00:00,  5.70s/it]\n"
          ]
        },
        {
          "metadata": {
            "tags": null
          },
          "name": "stdout",
          "output_type": "stream",
          "text": [
            "Epoch 30, Loss: 0.4165271172920863\n"
          ]
        },
        {
          "metadata": {
            "tags": null
          },
          "name": "stderr",
          "output_type": "stream",
          "text": [
            "100%|██████████| 81/81 [07:43<00:00,  5.72s/it]\n"
          ]
        },
        {
          "metadata": {
            "tags": null
          },
          "name": "stdout",
          "output_type": "stream",
          "text": [
            "Epoch 31, Loss: 0.4493819245217759\n"
          ]
        },
        {
          "metadata": {
            "tags": null
          },
          "name": "stderr",
          "output_type": "stream",
          "text": [
            "100%|██████████| 81/81 [07:42<00:00,  5.71s/it]\n"
          ]
        },
        {
          "metadata": {
            "tags": null
          },
          "name": "stdout",
          "output_type": "stream",
          "text": [
            "Epoch 32, Loss: 0.42571720683280334\n"
          ]
        },
        {
          "metadata": {
            "tags": null
          },
          "name": "stderr",
          "output_type": "stream",
          "text": [
            "100%|██████████| 81/81 [07:44<00:00,  5.74s/it]\n"
          ]
        },
        {
          "metadata": {
            "tags": null
          },
          "name": "stdout",
          "output_type": "stream",
          "text": [
            "Epoch 33, Loss: 0.37564361766900545\n"
          ]
        },
        {
          "metadata": {
            "tags": null
          },
          "name": "stderr",
          "output_type": "stream",
          "text": [
            "100%|██████████| 81/81 [07:43<00:00,  5.73s/it]\n"
          ]
        },
        {
          "metadata": {
            "tags": null
          },
          "name": "stdout",
          "output_type": "stream",
          "text": [
            "Epoch 34, Loss: 0.3686018410932135\n"
          ]
        },
        {
          "metadata": {
            "tags": null
          },
          "name": "stderr",
          "output_type": "stream",
          "text": [
            "100%|██████████| 81/81 [07:43<00:00,  5.72s/it]\n"
          ]
        },
        {
          "metadata": {
            "tags": null
          },
          "name": "stdout",
          "output_type": "stream",
          "text": [
            "Epoch 35, Loss: 0.33362867177268607\n"
          ]
        },
        {
          "metadata": {
            "tags": null
          },
          "name": "stderr",
          "output_type": "stream",
          "text": [
            "100%|██████████| 81/81 [07:43<00:00,  5.72s/it]\n"
          ]
        },
        {
          "metadata": {
            "tags": null
          },
          "name": "stdout",
          "output_type": "stream",
          "text": [
            "Epoch 36, Loss: 0.36459656878386015\n"
          ]
        },
        {
          "output_type": "stream",
          "name": "stderr",
          "text": [
            "100%|██████████| 81/81 [07:42<00:00,  5.71s/it]\n"
          ]
        },
        {
          "output_type": "stream",
          "name": "stdout",
          "text": [
            "Epoch 37, Loss: 0.301284362366538\n"
          ]
        },
        {
          "output_type": "stream",
          "name": "stderr",
          "text": [
            "100%|██████████| 81/81 [07:43<00:00,  5.73s/it]\n"
          ]
        },
        {
          "output_type": "stream",
          "name": "stdout",
          "text": [
            "Epoch 38, Loss: 0.32241285196792935\n"
          ]
        },
        {
          "output_type": "stream",
          "name": "stderr",
          "text": [
            "100%|██████████| 81/81 [07:41<00:00,  5.69s/it]\n"
          ]
        },
        {
          "output_type": "stream",
          "name": "stdout",
          "text": [
            "Epoch 39, Loss: 0.2693212190068062\n"
          ]
        },
        {
          "output_type": "stream",
          "name": "stderr",
          "text": [
            "100%|██████████| 81/81 [07:52<00:00,  5.84s/it]\n"
          ]
        },
        {
          "output_type": "stream",
          "name": "stdout",
          "text": [
            "Epoch 40, Loss: 0.2658446998691853\n"
          ]
        },
        {
          "output_type": "stream",
          "name": "stderr",
          "text": [
            "100%|██████████| 81/81 [07:46<00:00,  5.76s/it]\n"
          ]
        },
        {
          "output_type": "stream",
          "name": "stdout",
          "text": [
            "Epoch 41, Loss: 0.25078773673301863\n"
          ]
        },
        {
          "output_type": "stream",
          "name": "stderr",
          "text": [
            "100%|██████████| 81/81 [07:43<00:00,  5.72s/it]\n"
          ]
        },
        {
          "output_type": "stream",
          "name": "stdout",
          "text": [
            "Epoch 42, Loss: 0.2543620157377495\n"
          ]
        },
        {
          "output_type": "stream",
          "name": "stderr",
          "text": [
            "100%|██████████| 81/81 [07:41<00:00,  5.70s/it]\n"
          ]
        },
        {
          "output_type": "stream",
          "name": "stdout",
          "text": [
            "Epoch 43, Loss: 0.24797951262789192\n"
          ]
        },
        {
          "output_type": "stream",
          "name": "stderr",
          "text": [
            "100%|██████████| 81/81 [07:41<00:00,  5.70s/it]\n"
          ]
        },
        {
          "output_type": "stream",
          "name": "stdout",
          "text": [
            "Epoch 44, Loss: 0.22532336807085407\n"
          ]
        },
        {
          "output_type": "stream",
          "name": "stderr",
          "text": [
            "100%|██████████| 81/81 [07:44<00:00,  5.74s/it]\n"
          ]
        },
        {
          "output_type": "stream",
          "name": "stdout",
          "text": [
            "Epoch 45, Loss: 0.24938883197804293\n"
          ]
        },
        {
          "output_type": "stream",
          "name": "stderr",
          "text": [
            "100%|██████████| 81/81 [07:40<00:00,  5.69s/it]\n"
          ]
        },
        {
          "output_type": "stream",
          "name": "stdout",
          "text": [
            "Epoch 46, Loss: 0.18204446648029082\n"
          ]
        },
        {
          "output_type": "stream",
          "name": "stderr",
          "text": [
            "100%|██████████| 81/81 [07:43<00:00,  5.72s/it]\n"
          ]
        },
        {
          "output_type": "stream",
          "name": "stdout",
          "text": [
            "Epoch 47, Loss: 0.1808526726083163\n"
          ]
        },
        {
          "output_type": "stream",
          "name": "stderr",
          "text": [
            "100%|██████████| 81/81 [07:42<00:00,  5.71s/it]\n"
          ]
        },
        {
          "output_type": "stream",
          "name": "stdout",
          "text": [
            "Epoch 48, Loss: 0.21255058212849645\n"
          ]
        },
        {
          "output_type": "stream",
          "name": "stderr",
          "text": [
            "100%|██████████| 81/81 [07:42<00:00,  5.71s/it]\n"
          ]
        },
        {
          "output_type": "stream",
          "name": "stdout",
          "text": [
            "Epoch 49, Loss: 0.26539196218881345\n"
          ]
        },
        {
          "output_type": "stream",
          "name": "stderr",
          "text": [
            "100%|██████████| 81/81 [07:43<00:00,  5.72s/it]"
          ]
        },
        {
          "output_type": "stream",
          "name": "stdout",
          "text": [
            "Epoch 50, Loss: 0.2609709584970533\n"
          ]
        },
        {
          "output_type": "stream",
          "name": "stderr",
          "text": [
            "\n"
          ]
        }
      ]
    },
    {
      "cell_type": "code",
      "source": [
        "plt.plot(losses)\n",
        "plt.xlabel('Epoch')\n",
        "plt.ylabel('Loss')\n",
        "plt.title('Training Loss')\n",
        "plt.show()"
      ],
      "metadata": {
        "id": "0jH6Keg6oN8F",
        "colab": {
          "base_uri": "https://localhost:8080/",
          "height": 472
        },
        "outputId": "60d3157c-2714-4b39-d840-38a050318a02"
      },
      "execution_count": 9,
      "outputs": [
        {
          "output_type": "display_data",
          "data": {
            "text/plain": [
              "<Figure size 640x480 with 1 Axes>"
            ],
            "image/png": "[encoded data removed]"
          },
          "metadata": {}
        }
      ]
    },
    {
      "cell_type": "code",
      "source": [
        "save_path = '/content/drive/MyDrive/model_binaryClassfication.pth'\n",
        "torch.save(model.state_dict(), save_path)"
      ],
      "metadata": {
        "id": "3FHXWFc7GNPv"
      },
      "execution_count": 10,
      "outputs": []
    }
  ]
}