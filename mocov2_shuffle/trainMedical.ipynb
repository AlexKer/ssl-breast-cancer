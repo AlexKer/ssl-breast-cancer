{
  "nbformat": 4,
  "nbformat_minor": 0,
  "metadata": {
    "colab": {
      "private_outputs": true,
      "provenance": [],
      "machine_shape": "hm",
      "gpuType": "A100"
    },
    "kernelspec": {
      "name": "python3",
      "display_name": "Python 3"
    },
    "language_info": {
      "name": "python"
    },
    "accelerator": "GPU"
  },
  "cells": [
    {
      "cell_type": "code",
      "source": [
        "!pip install torchio\n",
        "!pip install warmup_scheduler"
      ],
      "metadata": {
        "id": "ieszvebTVpsE"
      },
      "execution_count": null,
      "outputs": []
    },
    {
      "cell_type": "code",
      "execution_count": null,
      "metadata": {
        "id": "FDoAFVSJVC9n"
      },
      "outputs": [],
      "source": [
        "import sys\n",
        "sys.path.append('/content/drive/MyDrive/ssl-breast-cancer/mocov2_shuffle')"
      ]
    },
    {
      "cell_type": "code",
      "source": [
        "from main import main"
      ],
      "metadata": {
        "id": "azI12fNRVkLI"
      },
      "execution_count": null,
      "outputs": []
    },
    {
      "cell_type": "code",
      "source": [
        "main(json_file='/content/drive/MyDrive/Dataset/Medical Dataset/ispy1_data_new.json',\n",
        "     log_dir='/content/drive/MyDrive/Dataset/Medical Dataset',\n",
        "     resume_from=None)"
      ],
      "metadata": {
        "id": "RTfrlJ97Vopx"
      },
      "execution_count": null,
      "outputs": []
    }
  ]
}